{
 "cells": [
  {
   "cell_type": "markdown",
   "metadata": {
    "collapsed": true
   },
   "source": [
    "## Stage 2: Traditional statistical and machine learning methods\n",
    "\n",
    "At this stage we will address the genre prediction problem with traditional statistical or machine learning methods.\n",
    "\n",
    "The notebook includes:\n",
    "\n",
    "- Detailed description and implementation of different models\n",
    "- Description of performance metrics\n",
    "- Careful performance evaluations for  models\n",
    "- Visualizations of the metrics for performance evaluation\n",
    "- Discussion of the differences between the models, their strengths, weaknesses, etc. \n",
    "- Discussion of the performances we achieved, and how we might be able to improve them in the future\n"
   ]
  },
  {
   "cell_type": "markdown",
   "metadata": {},
   "source": [
    "### <span style=\"color:#08088A\">  Needed libraries  </span>"
   ]
  },
  {
   "cell_type": "code",
   "execution_count": 1,
   "metadata": {},
   "outputs": [],
   "source": [
    "import warnings\n",
    "warnings.filterwarnings('ignore')"
   ]
  },
  {
   "cell_type": "code",
   "execution_count": 2,
   "metadata": {},
   "outputs": [],
   "source": [
    "import imdb\n",
    "import numpy                  as np\n",
    "import pandas                 as pd\n",
    "import scipy                  as sp\n",
    "import sklearn.neighbors      as knn\n",
    "import matplotlib\n",
    "import matplotlib.pyplot      as plt\n",
    "import seaborn\n",
    "import requests\n",
    "import urllib\n",
    "import joblib\n",
    "import requests\n",
    "import json\n",
    "import os\n",
    "import random\n",
    "import seaborn as sns\n",
    "#import statsmodels.api as sm\n",
    "from ast                                  import literal_eval\n",
    "from matplotlib                           import rcParams\n",
    "from sklearn                              import discriminant_analysis\n",
    "from sklearn.decomposition                import PCA\n",
    "from sklearn                              import preprocessing\n",
    "from sklearn.linear_model                 import LogisticRegression as LogReg\n",
    "from sklearn.discriminant_analysis        import LinearDiscriminantAnalysis as LDA\n",
    "from sklearn.discriminant_analysis        import QuadraticDiscriminantAnalysis as QDA\n",
    "from scipy.stats                          import mode\n",
    "from sklearn                              import linear_model\n",
    "from IPython.core.interactiveshell        import InteractiveShell\n",
    "from time                                 import sleep\n",
    "from collections                          import Counter\n",
    "from itertools                            import combinations, permutations\n",
    "from urlparse                             import urljoin\n"
   ]
  },
  {
   "cell_type": "code",
   "execution_count": 3,
   "metadata": {
    "collapsed": true
   },
   "outputs": [],
   "source": [
    "InteractiveShell.ast_node_interactivity = \"all\"\n",
    "%matplotlib inline"
   ]
  },
  {
   "cell_type": "code",
   "execution_count": 4,
   "metadata": {
    "collapsed": true
   },
   "outputs": [],
   "source": [
    "matplotlib.style.use('ggplot')\n",
    "rcParams['figure.figsize'] = (20, 10)\n",
    "rcParams['axes.facecolor'] = \"w\"\n",
    "rcParams['grid.color'] = \"gray\"\n",
    "rcParams['grid.linewidth'] = 0.5"
   ]
  },
  {
   "cell_type": "markdown",
   "metadata": {},
   "source": [
    "### <span style=\"color:#08088A\">  Description of our data:  </span> \n",
    " \n",
    "Our data is a merged database through IMDB IDs using TMDB and IMDB sources. The TMDB data includes metadata such as popularity, production company, production country, average vote score.  TMDb also provides the movie posters in addition to the metadata. You can find below description of variables below: \n",
    " \n",
    "**TMDB Data Description**\n",
    " \n",
    "Adult: A logical value that indicates if a movie is only for adult people (TRUE) or not (FALSE). backdrop_path: The backdrop of the movie. \n",
    "belong_to_collection: The collections to which the movie belongs. \n",
    "Budget: The budget for the movie.\n",
    "Genres: The movie’s genre. \n",
    "Homepage: The movie’s homepage.\n",
    "Id: The movie ID.\n",
    "imdb_id: The movie imdb ID. \n",
    "original_language: The original language of the movie. \n",
    "original_title: The original title of the movie. \n",
    "Overview: A brief plot. \n",
    "Popularity: An index of the movie’s popularity.\n",
    "poster_path: The poster of the movie. \n",
    "production_companies: The producer companies.\n",
    "production_countries: The countries involved in the production. \n",
    "release_data: The date of the release. \n",
    "Revenue: The movie’s income.\n",
    "Runtime: The length of the movie. \n",
    "spoken_language: The language spoken in the movie. \n",
    "Status: The movie’s status. \n",
    "Tagline: The movie’s tagline. \n",
    "Title: The movie’s title. \n",
    "Video: The videos associated to the movie. \n",
    "vote_average: The average of the votes.\n",
    "vote_count: The number of votes.                    \n",
    " \n",
    "**IMDB Data Description**\n",
    " \n",
    "director: Person list; a list of director's name (e.g.: ['Brian De Palma'])\n",
    "cast: Person list; list of actor/actress, with the currentRole instance\n",
    "                   variable set to a Character object which describe his\n",
    "                   role/duty.\n",
    "writer: Person list; list of writers ['Oscar Fraley (novel)']\n",
    "rating: string; user rating on IMDb from 1 to 10 (e.g. '7.8')\n",
    "votes: string; number of votes (e.g. '24,101')\n",
    "runtimes: string list; in minutes ['119'] or something like ['USA:118',\n",
    "          'UK:116']\n",
    "genres: string list; one or more in (Action, Adventure, Adult, Animation,\n",
    "                                         Comedy, Crime, Documentary, Drama, Family, Fantasy, Film-Noir,\n",
    "                                         Horror, Musical, Mystery, Romance, Sci-Fi, Short, Thriller,\n",
    "                                         War, Western) and other genres defined by IMDb.\n",
    "akas: string list; list of aka for this movie\n",
    "certificates: string list; ['UK:15', 'USA:R']\n",
    "mpaa: string; the mpaa rating\n",
    "  \n",
    "### <span style=\"color:#08088A\">  Features chosen for X:  </span> \n",
    " \n",
    "Our database is a combination of metadata, poster images, plot summary word vectors,\n",
    "\n",
    "**Metadata:**Our correlation analysis shows that even though some metadata features will be useful in our prediction such as production company, production country and voting average, overall there is weak correlation with genre. Therefore our prediction accuracy would be low if we only use metadata from TMDB and IMDB.  In addition to the metadata that have correlation over 3% with genre, we will incorporate Image recognition of posters and natural language processing of plot summaries / actors, writer and directors to help us improve our accuracy. \n",
    "\n",
    "**Actors/directors/writers:** can also be useful in predicting genre, common sense tells us that some actors regularly act in comedies, some act in dramas etc. We can also treat each actor/writer/director as a feature. \n",
    "\n",
    "**Plot summaries:** Our aim is to analyse plot summaries by turning each plot into a vector of features. We will tokenize and count the word occurrences using a bag of words approach. Individual token occurrence frequency (normalized or not) will be treated as a feature, as features will then enable us to predict the genre. \n",
    "\n",
    "**Posters:**  We will convert each poster into pixels and use PCA to reduce dimensionality in the next milestone. Top PC scores that represent 90% of the variance will be used."
   ]
  },
  {
   "cell_type": "markdown",
   "metadata": {},
   "source": [
    "###  <span style=\"color:#08088A\">  Loading the imdb and tmdb merge data:  </span> "
   ]
  },
  {
   "cell_type": "code",
   "execution_count": 5,
   "metadata": {},
   "outputs": [],
   "source": [
    "merged_mdb_final = pd.read_csv('merged_mdb_final.txt')\n",
    "merged_mdb_final = merged_mdb_final.drop('Unnamed: 0', axis=1)"
   ]
  },
  {
   "cell_type": "code",
   "execution_count": 6,
   "metadata": {},
   "outputs": [
    {
     "data": {
      "text/html": [
       "<div>\n",
       "<table border=\"1\" class=\"dataframe\">\n",
       "  <thead>\n",
       "    <tr style=\"text-align: right;\">\n",
       "      <th></th>\n",
       "      <th>title_x</th>\n",
       "      <th>imdb_id</th>\n",
       "      <th>id</th>\n",
       "      <th>overview</th>\n",
       "      <th>budget</th>\n",
       "      <th>genres</th>\n",
       "      <th>release_date</th>\n",
       "      <th>revenue</th>\n",
       "      <th>runtime</th>\n",
       "      <th>original_language</th>\n",
       "      <th>...</th>\n",
       "      <th>vote_count</th>\n",
       "      <th>status</th>\n",
       "      <th>adult</th>\n",
       "      <th>title_y</th>\n",
       "      <th>rating</th>\n",
       "      <th>votes</th>\n",
       "      <th>year</th>\n",
       "      <th>cast</th>\n",
       "      <th>director</th>\n",
       "      <th>writer</th>\n",
       "    </tr>\n",
       "  </thead>\n",
       "  <tbody>\n",
       "    <tr>\n",
       "      <th>0</th>\n",
       "      <td>[u'Notorious']</td>\n",
       "      <td>38787</td>\n",
       "      <td>303</td>\n",
       "      <td>[u'Released shortly after the war, this classi...</td>\n",
       "      <td>2000000</td>\n",
       "      <td>[{u'id': 53, u'name': u'Thriller'}, {u'id': 18...</td>\n",
       "      <td>8/15/1946</td>\n",
       "      <td>24464742</td>\n",
       "      <td>102.0</td>\n",
       "      <td>en</td>\n",
       "      <td>...</td>\n",
       "      <td>250</td>\n",
       "      <td>Released</td>\n",
       "      <td>0</td>\n",
       "      <td>[u'Notorious']</td>\n",
       "      <td>8.0</td>\n",
       "      <td>76704.0</td>\n",
       "      <td>1946.0</td>\n",
       "      <td>[u'Cary Grant', u'Ingrid Bergman', u'Claude Ra...</td>\n",
       "      <td>[u'Alfred Hitchcock']</td>\n",
       "      <td>[u'Ben Hecht', u'John Taintor Foote', u'Alfred...</td>\n",
       "    </tr>\n",
       "    <tr>\n",
       "      <th>1</th>\n",
       "      <td>[u'The ABCs of Death']</td>\n",
       "      <td>1935896</td>\n",
       "      <td>87436</td>\n",
       "      <td>[u\"An ambitious anthology film featuring segme...</td>\n",
       "      <td>0</td>\n",
       "      <td>[{u'id': 27, u'name': u'Horror'}]</td>\n",
       "      <td>6/28/2013</td>\n",
       "      <td>21660</td>\n",
       "      <td>123.0</td>\n",
       "      <td>en</td>\n",
       "      <td>...</td>\n",
       "      <td>137</td>\n",
       "      <td>Released</td>\n",
       "      <td>0</td>\n",
       "      <td>[u'The ABCs of Death']</td>\n",
       "      <td>4.7</td>\n",
       "      <td>14951.0</td>\n",
       "      <td>2012.0</td>\n",
       "      <td>[u'Eva Llorach', u'Miquel Insua', u'Alejandra ...</td>\n",
       "      <td>[u'Kaare Andrews', u'Angela Bettis', u'H\\xe9l\\...</td>\n",
       "      <td>[u'Ant Timpson', u'Nacho Vigalondo', u'Adri\\xe...</td>\n",
       "    </tr>\n",
       "  </tbody>\n",
       "</table>\n",
       "<p>2 rows × 28 columns</p>\n",
       "</div>"
      ],
      "text/plain": [
       "                  title_x  imdb_id     id  \\\n",
       "0          [u'Notorious']    38787    303   \n",
       "1  [u'The ABCs of Death']  1935896  87436   \n",
       "\n",
       "                                            overview   budget  \\\n",
       "0  [u'Released shortly after the war, this classi...  2000000   \n",
       "1  [u\"An ambitious anthology film featuring segme...        0   \n",
       "\n",
       "                                              genres release_date   revenue  \\\n",
       "0  [{u'id': 53, u'name': u'Thriller'}, {u'id': 18...    8/15/1946  24464742   \n",
       "1                  [{u'id': 27, u'name': u'Horror'}]    6/28/2013     21660   \n",
       "\n",
       "   runtime original_language  \\\n",
       "0    102.0                en   \n",
       "1    123.0                en   \n",
       "\n",
       "                         ...                          vote_count    status  \\\n",
       "0                        ...                                 250  Released   \n",
       "1                        ...                                 137  Released   \n",
       "\n",
       "  adult                 title_y rating    votes    year  \\\n",
       "0     0          [u'Notorious']    8.0  76704.0  1946.0   \n",
       "1     0  [u'The ABCs of Death']    4.7  14951.0  2012.0   \n",
       "\n",
       "                                                cast  \\\n",
       "0  [u'Cary Grant', u'Ingrid Bergman', u'Claude Ra...   \n",
       "1  [u'Eva Llorach', u'Miquel Insua', u'Alejandra ...   \n",
       "\n",
       "                                            director  \\\n",
       "0                              [u'Alfred Hitchcock']   \n",
       "1  [u'Kaare Andrews', u'Angela Bettis', u'H\\xe9l\\...   \n",
       "\n",
       "                                              writer  \n",
       "0  [u'Ben Hecht', u'John Taintor Foote', u'Alfred...  \n",
       "1  [u'Ant Timpson', u'Nacho Vigalondo', u'Adri\\xe...  \n",
       "\n",
       "[2 rows x 28 columns]"
      ]
     },
     "execution_count": 6,
     "metadata": {},
     "output_type": "execute_result"
    }
   ],
   "source": [
    "merged_mdb_final.head(2)"
   ]
  },
  {
   "cell_type": "code",
   "execution_count": 7,
   "metadata": {},
   "outputs": [
    {
     "data": {
      "text/plain": [
       "Index([u'title_x', u'imdb_id', u'id', u'overview', u'budget', u'genres',\n",
       "       u'release_date', u'revenue', u'runtime', u'original_language',\n",
       "       u'popularity', u'original_title', u'poster_path',\n",
       "       u'production_companies', u'production_countries', u'spoken_languages',\n",
       "       u'tagline', u'vote_average', u'vote_count', u'status', u'adult',\n",
       "       u'title_y', u'rating', u'votes', u'year', u'cast', u'director',\n",
       "       u'writer'],\n",
       "      dtype='object')"
      ]
     },
     "execution_count": 7,
     "metadata": {},
     "output_type": "execute_result"
    }
   ],
   "source": [
    "merged_mdb_final.columns"
   ]
  },
  {
   "cell_type": "markdown",
   "metadata": {
    "collapsed": true
   },
   "source": [
    "###  <span style=\"color:#08088A\">  Poster data:  </span> "
   ]
  },
  {
   "cell_type": "code",
   "execution_count": 8,
   "metadata": {},
   "outputs": [],
   "source": [
    "-"
   ]
  },
  {
   "cell_type": "markdown",
   "metadata": {
    "collapsed": true
   },
   "source": [
    "###  <span style=\"color:#08088A\">  Clean data:  </span> "
   ]
  },
  {
   "cell_type": "markdown",
   "metadata": {
    "collapsed": true
   },
   "source": [
    "\n",
    "We need to clean the data before making any analysis as there are dictionaries inside the dataframe and multiple labels under one column such as in genres, production country and production company. \n",
    "\n"
   ]
  },
  {
   "cell_type": "code",
   "execution_count": 9,
   "metadata": {},
   "outputs": [],
   "source": [
    "# convert dictionaries to list\n",
    "merged_mdb_final['genres'] = merged_mdb_final['genres'].apply(lambda x:[genre['name'] for genre in literal_eval(x)])\n",
    "merged_mdb_final['production_companies'] = merged_mdb_final['production_companies'].apply(lambda x:[prod['name'] for prod in literal_eval(x)])\n",
    "merged_mdb_final['production_countries'] = merged_mdb_final['production_countries'].apply(lambda x:[prod_count['name'] for prod_count in literal_eval(x)])\n",
    "merged_mdb_final['spoken_languages'] = merged_mdb_final['spoken_languages'].apply(lambda x:[spoken['name'] for spoken in literal_eval(x)])"
   ]
  },
  {
   "cell_type": "code",
   "execution_count": 10,
   "metadata": {},
   "outputs": [
    {
     "data": {
      "text/plain": [
       "0              [Thriller, Drama, Romance]\n",
       "1                                [Horror]\n",
       "2                               [Western]\n",
       "3             [Adventure, Drama, Romance]\n",
       "4                                [Comedy]\n",
       "5               [Action, Science Fiction]\n",
       "6                [Thriller, Crime, Drama]\n",
       "7                           [Documentary]\n",
       "8                [Comedy, Drama, Romance]\n",
       "9    [Comedy, Animation, Family, Fantasy]\n",
       "Name: genres, dtype: object"
      ]
     },
     "execution_count": 10,
     "metadata": {},
     "output_type": "execute_result"
    }
   ],
   "source": [
    "merged_mdb_final['genres'][0:10]"
   ]
  },
  {
   "cell_type": "code",
   "execution_count": 6,
   "metadata": {},
   "outputs": [
    {
     "name": "stderr",
     "output_type": "stream",
     "text": [
      "/home/emre/anaconda3/envs/python2/lib/python2.7/site-packages/ipykernel/__main__.py:5: SettingWithCopyWarning: \n",
      "A value is trying to be set on a copy of a slice from a DataFrame\n",
      "\n",
      "See the caveats in the documentation: http://pandas.pydata.org/pandas-docs/stable/indexing.html#indexing-view-versus-copy\n",
      "/home/emre/anaconda3/envs/python2/lib/python2.7/site-packages/ipykernel/__main__.py:10: SettingWithCopyWarning: \n",
      "A value is trying to be set on a copy of a slice from a DataFrame\n",
      "\n",
      "See the caveats in the documentation: http://pandas.pydata.org/pandas-docs/stable/indexing.html#indexing-view-versus-copy\n"
     ]
    }
   ],
   "source": [
    "#Convert \"cast\" dictionary into list seperated by comma\n",
    "\n",
    "#This takes a couple of minutes, please revise if there is algorithmically a more efficient way\n",
    "for i in range(len(merged_mdb_final['cast'])):\n",
    "    merged_mdb_final['cast'][i] = str(merged_mdb_final['cast'][i]).split(',')\n",
    "    \n",
    "#Keep only main actor as predictor variable since there are many actors and \n",
    "#keeping actors with minor parts do not seem make a lot of sense\n",
    "for i in range(len(merged_mdb_final['cast'])):\n",
    "    merged_mdb_final['cast'][i] = merged_mdb_final['cast'][i][0]\n",
    "\n",
    "    "
   ]
  },
  {
   "cell_type": "code",
   "execution_count": 12,
   "metadata": {
    "collapsed": true
   },
   "outputs": [],
   "source": [
    "#Keep the main production company and country\n",
    "#This takes a couple of minutes, please revise if there is algorithmically a more efficient way\n",
    "for i in range(len(merged_mdb_final['production_companies'])):\n",
    "    if(len(merged_mdb_final['production_companies'][i])>0):\n",
    "        merged_mdb_final['production_companies'][i] = merged_mdb_final['production_companies'][i][0]\n",
    " \n",
    "for i in range(len(merged_mdb_final['production_countries'])):\n",
    "    if(len(merged_mdb_final['production_countries'][i])>0):\n",
    "        merged_mdb_final['production_countries'][i] = merged_mdb_final['production_countries'][i][0]"
   ]
  },
  {
   "cell_type": "code",
   "execution_count": 13,
   "metadata": {},
   "outputs": [],
   "source": [
    "merged_mdb_final['modified_genres'] = merged_mdb_final['genres']\n"
   ]
  },
  {
   "cell_type": "code",
   "execution_count": 14,
   "metadata": {},
   "outputs": [],
   "source": [
    "#Delete features that will not be of interest for modelling\n",
    "\n",
    "merged_mdb_final = merged_mdb_final.drop(['spoken_languages'], axis=1)\n",
    "merged_mdb_final = merged_mdb_final.drop(['release_date'], axis=1)\n",
    "merged_mdb_final = merged_mdb_final.drop(['title_y'], axis=1)\n",
    "#merged_mdb_final = merged_mdb_final.drop(['imdb_id'], axis=1)\n",
    "#merged_mdb_final = merged_mdb_final.drop(['original_title'], axis=1)\n",
    "merged_mdb_final = merged_mdb_final.drop(['tagline'], axis=1)\n",
    "merged_mdb_final = merged_mdb_final.drop(['status'], axis=1)\n",
    "merged_mdb_final = merged_mdb_final.drop(['id'], axis=1)\n",
    "merged_mdb_final = merged_mdb_final.drop(['adult'], axis=1)\n"
   ]
  },
  {
   "cell_type": "code",
   "execution_count": 15,
   "metadata": {},
   "outputs": [
    {
     "data": {
      "text/plain": [
       "LabelEncoder()"
      ]
     },
     "execution_count": 15,
     "metadata": {},
     "output_type": "execute_result"
    },
    {
     "data": {
      "text/plain": [
       "LabelEncoder()"
      ]
     },
     "execution_count": 15,
     "metadata": {},
     "output_type": "execute_result"
    },
    {
     "data": {
      "text/plain": [
       "LabelEncoder()"
      ]
     },
     "execution_count": 15,
     "metadata": {},
     "output_type": "execute_result"
    },
    {
     "data": {
      "text/plain": [
       "LabelEncoder()"
      ]
     },
     "execution_count": 15,
     "metadata": {},
     "output_type": "execute_result"
    },
    {
     "data": {
      "text/plain": [
       "LabelEncoder()"
      ]
     },
     "execution_count": 15,
     "metadata": {},
     "output_type": "execute_result"
    }
   ],
   "source": [
    "#Convert categorical variables with strings to numerical values prior to correlation analysis/modelling\n",
    "from sklearn import preprocessing\n",
    "le = preprocessing.LabelEncoder()\n",
    "\n",
    "le.fit(merged_mdb_final['director'])\n",
    "merged_mdb_final['director'] = le.transform(merged_mdb_final['director']) \n",
    "\n",
    "le.fit(merged_mdb_final['writer'])\n",
    "merged_mdb_final['writer'] = le.transform(merged_mdb_final['writer']) \n",
    "\n",
    "le.fit(merged_mdb_final['cast'])\n",
    "merged_mdb_final['cast'] = le.transform(merged_mdb_final['cast']) \n",
    "\n",
    "le.fit(merged_mdb_final['production_countries'])\n",
    "merged_mdb_final['production_countries'] = le.transform(merged_mdb_final['production_countries']) \n",
    "\n",
    "le.fit(merged_mdb_final['production_companies'])\n",
    "merged_mdb_final['production_companies'] = le.transform(merged_mdb_final['production_companies']) \n",
    "\n"
   ]
  },
  {
   "cell_type": "code",
   "execution_count": 16,
   "metadata": {},
   "outputs": [
    {
     "data": {
      "text/html": [
       "<div>\n",
       "<table border=\"1\" class=\"dataframe\">\n",
       "  <thead>\n",
       "    <tr style=\"text-align: right;\">\n",
       "      <th></th>\n",
       "      <th>title_x</th>\n",
       "      <th>imdb_id</th>\n",
       "      <th>overview</th>\n",
       "      <th>budget</th>\n",
       "      <th>genres</th>\n",
       "      <th>revenue</th>\n",
       "      <th>runtime</th>\n",
       "      <th>original_language</th>\n",
       "      <th>popularity</th>\n",
       "      <th>original_title</th>\n",
       "      <th>...</th>\n",
       "      <th>production_countries</th>\n",
       "      <th>vote_average</th>\n",
       "      <th>vote_count</th>\n",
       "      <th>rating</th>\n",
       "      <th>votes</th>\n",
       "      <th>year</th>\n",
       "      <th>cast</th>\n",
       "      <th>director</th>\n",
       "      <th>writer</th>\n",
       "      <th>modified_genres</th>\n",
       "    </tr>\n",
       "  </thead>\n",
       "  <tbody>\n",
       "    <tr>\n",
       "      <th>0</th>\n",
       "      <td>[u'Notorious']</td>\n",
       "      <td>38787</td>\n",
       "      <td>[u'Released shortly after the war, this classi...</td>\n",
       "      <td>2000000</td>\n",
       "      <td>[Thriller, Drama, Romance]</td>\n",
       "      <td>24464742</td>\n",
       "      <td>102.0</td>\n",
       "      <td>en</td>\n",
       "      <td>1.520523</td>\n",
       "      <td>[u'Notorious']</td>\n",
       "      <td>...</td>\n",
       "      <td>63</td>\n",
       "      <td>7.7</td>\n",
       "      <td>250</td>\n",
       "      <td>8.0</td>\n",
       "      <td>76704.0</td>\n",
       "      <td>1946.0</td>\n",
       "      <td>400</td>\n",
       "      <td>90</td>\n",
       "      <td>378</td>\n",
       "      <td>[Thriller, Drama, Romance]</td>\n",
       "    </tr>\n",
       "    <tr>\n",
       "      <th>1</th>\n",
       "      <td>[u'The ABCs of Death']</td>\n",
       "      <td>1935896</td>\n",
       "      <td>[u\"An ambitious anthology film featuring segme...</td>\n",
       "      <td>0</td>\n",
       "      <td>[Horror]</td>\n",
       "      <td>21660</td>\n",
       "      <td>123.0</td>\n",
       "      <td>en</td>\n",
       "      <td>1.227384</td>\n",
       "      <td>[u'The ABCs of Death']</td>\n",
       "      <td>...</td>\n",
       "      <td>63</td>\n",
       "      <td>4.7</td>\n",
       "      <td>137</td>\n",
       "      <td>4.7</td>\n",
       "      <td>14951.0</td>\n",
       "      <td>2012.0</td>\n",
       "      <td>792</td>\n",
       "      <td>1493</td>\n",
       "      <td>278</td>\n",
       "      <td>[Horror]</td>\n",
       "    </tr>\n",
       "    <tr>\n",
       "      <th>2</th>\n",
       "      <td>[u'Duck, You Sucker']</td>\n",
       "      <td>67140</td>\n",
       "      <td>[u'At the beginning of the 1913 Mexican Revolu...</td>\n",
       "      <td>0</td>\n",
       "      <td>[Western]</td>\n",
       "      <td>0</td>\n",
       "      <td>157.0</td>\n",
       "      <td>en</td>\n",
       "      <td>0.335946</td>\n",
       "      <td>[u'Gi\\xf9 la testa']</td>\n",
       "      <td>...</td>\n",
       "      <td>32</td>\n",
       "      <td>7.6</td>\n",
       "      <td>129</td>\n",
       "      <td>7.7</td>\n",
       "      <td>22832.0</td>\n",
       "      <td>1971.0</td>\n",
       "      <td>2114</td>\n",
       "      <td>2489</td>\n",
       "      <td>3508</td>\n",
       "      <td>[Western]</td>\n",
       "    </tr>\n",
       "    <tr>\n",
       "      <th>3</th>\n",
       "      <td>[u'The Sheltering Sky']</td>\n",
       "      <td>100594</td>\n",
       "      <td>[u'An American couple (John Malkovich, Debra W...</td>\n",
       "      <td>25000000</td>\n",
       "      <td>[Adventure, Drama, Romance]</td>\n",
       "      <td>2075084</td>\n",
       "      <td>138.0</td>\n",
       "      <td>en</td>\n",
       "      <td>0.341105</td>\n",
       "      <td>[u'The Sheltering Sky']</td>\n",
       "      <td>...</td>\n",
       "      <td>32</td>\n",
       "      <td>6.3</td>\n",
       "      <td>37</td>\n",
       "      <td>6.8</td>\n",
       "      <td>9117.0</td>\n",
       "      <td>1990.0</td>\n",
       "      <td>636</td>\n",
       "      <td>253</td>\n",
       "      <td>2946</td>\n",
       "      <td>[Adventure, Drama, Romance]</td>\n",
       "    </tr>\n",
       "    <tr>\n",
       "      <th>4</th>\n",
       "      <td>[u'Recep \\u0130vedik 3']</td>\n",
       "      <td>1577061</td>\n",
       "      <td>[u'No overview found.']</td>\n",
       "      <td>0</td>\n",
       "      <td>[Comedy]</td>\n",
       "      <td>0</td>\n",
       "      <td>95.0</td>\n",
       "      <td>en</td>\n",
       "      <td>0.358557</td>\n",
       "      <td>[u'Recep \\u0130vedik 3']</td>\n",
       "      <td>...</td>\n",
       "      <td>60</td>\n",
       "      <td>5.4</td>\n",
       "      <td>12</td>\n",
       "      <td>4.1</td>\n",
       "      <td>12993.0</td>\n",
       "      <td>2010.0</td>\n",
       "      <td>2172</td>\n",
       "      <td>2698</td>\n",
       "      <td>3509</td>\n",
       "      <td>[Comedy]</td>\n",
       "    </tr>\n",
       "  </tbody>\n",
       "</table>\n",
       "<p>5 rows × 22 columns</p>\n",
       "</div>"
      ],
      "text/plain": [
       "                    title_x  imdb_id  \\\n",
       "0            [u'Notorious']    38787   \n",
       "1    [u'The ABCs of Death']  1935896   \n",
       "2     [u'Duck, You Sucker']    67140   \n",
       "3   [u'The Sheltering Sky']   100594   \n",
       "4  [u'Recep \\u0130vedik 3']  1577061   \n",
       "\n",
       "                                            overview    budget  \\\n",
       "0  [u'Released shortly after the war, this classi...   2000000   \n",
       "1  [u\"An ambitious anthology film featuring segme...         0   \n",
       "2  [u'At the beginning of the 1913 Mexican Revolu...         0   \n",
       "3  [u'An American couple (John Malkovich, Debra W...  25000000   \n",
       "4                            [u'No overview found.']         0   \n",
       "\n",
       "                        genres   revenue  runtime original_language  \\\n",
       "0   [Thriller, Drama, Romance]  24464742    102.0                en   \n",
       "1                     [Horror]     21660    123.0                en   \n",
       "2                    [Western]         0    157.0                en   \n",
       "3  [Adventure, Drama, Romance]   2075084    138.0                en   \n",
       "4                     [Comedy]         0     95.0                en   \n",
       "\n",
       "   popularity            original_title             ...               \\\n",
       "0    1.520523            [u'Notorious']             ...                \n",
       "1    1.227384    [u'The ABCs of Death']             ...                \n",
       "2    0.335946      [u'Gi\\xf9 la testa']             ...                \n",
       "3    0.341105   [u'The Sheltering Sky']             ...                \n",
       "4    0.358557  [u'Recep \\u0130vedik 3']             ...                \n",
       "\n",
       "  production_countries  vote_average  vote_count  rating    votes    year  \\\n",
       "0                   63           7.7         250     8.0  76704.0  1946.0   \n",
       "1                   63           4.7         137     4.7  14951.0  2012.0   \n",
       "2                   32           7.6         129     7.7  22832.0  1971.0   \n",
       "3                   32           6.3          37     6.8   9117.0  1990.0   \n",
       "4                   60           5.4          12     4.1  12993.0  2010.0   \n",
       "\n",
       "   cast  director  writer              modified_genres  \n",
       "0   400        90     378   [Thriller, Drama, Romance]  \n",
       "1   792      1493     278                     [Horror]  \n",
       "2  2114      2489    3508                    [Western]  \n",
       "3   636       253    2946  [Adventure, Drama, Romance]  \n",
       "4  2172      2698    3509                     [Comedy]  \n",
       "\n",
       "[5 rows x 22 columns]"
      ]
     },
     "execution_count": 16,
     "metadata": {},
     "output_type": "execute_result"
    }
   ],
   "source": [
    "merged_mdb_final.head(5)"
   ]
  },
  {
   "cell_type": "markdown",
   "metadata": {},
   "source": [
    "### Creating Y variables - Dealing with multi labels"
   ]
  },
  {
   "cell_type": "markdown",
   "metadata": {},
   "source": [
    "It seems that choosing genre data in TMDB and IMDB is a complicated process as some movies have multiple genres associated. In order for our model to train and predict from one genre per each observation, we duplicated movie data for each genre. So if a movie has two genres, we will have an observation for each genre. "
   ]
  },
  {
   "cell_type": "code",
   "execution_count": 17,
   "metadata": {},
   "outputs": [],
   "source": [
    "merged_mdb_final['pairs_genre'] = merged_mdb_final.modified_genres.map(lambda x : list(combinations(x, 2)))\n",
    "merged_mdb_final['uni_genre'] = merged_mdb_final.modified_genres.map(lambda x : list(combinations(x, 1)))"
   ]
  },
  {
   "cell_type": "code",
   "execution_count": 18,
   "metadata": {},
   "outputs": [],
   "source": [
    "melted_uni_genre = pd.DataFrame(pd.concat([pd.Series(row['imdb_id'], row['uni_genre']) for x, \n",
    "                                           row in merged_mdb_final.iterrows()])).reset_index()"
   ]
  },
  {
   "cell_type": "code",
   "execution_count": 19,
   "metadata": {
    "collapsed": true
   },
   "outputs": [],
   "source": [
    "melted_uni_genre.columns = ['uni_genre', 'imdb_id']"
   ]
  },
  {
   "cell_type": "code",
   "execution_count": 20,
   "metadata": {
    "collapsed": true
   },
   "outputs": [],
   "source": [
    "melted_pairs_genre = pd.DataFrame(pd.concat([pd.Series(row['imdb_id'], row['pairs_genre']) for x, \n",
    "                                             row in merged_mdb_final.iterrows()])).reset_index()"
   ]
  },
  {
   "cell_type": "code",
   "execution_count": 21,
   "metadata": {
    "collapsed": true
   },
   "outputs": [],
   "source": [
    "melted_pairs_genre.columns = ['pairs_genre', 'imdb_id']"
   ]
  },
  {
   "cell_type": "code",
   "execution_count": 22,
   "metadata": {},
   "outputs": [
    {
     "data": {
      "text/html": [
       "<div>\n",
       "<table border=\"1\" class=\"dataframe\">\n",
       "  <thead>\n",
       "    <tr style=\"text-align: right;\">\n",
       "      <th></th>\n",
       "      <th>pairs_genre</th>\n",
       "      <th>imdb_id</th>\n",
       "    </tr>\n",
       "  </thead>\n",
       "  <tbody>\n",
       "    <tr>\n",
       "      <th>0</th>\n",
       "      <td>(Thriller, Drama)</td>\n",
       "      <td>38787</td>\n",
       "    </tr>\n",
       "    <tr>\n",
       "      <th>1</th>\n",
       "      <td>(Thriller, Romance)</td>\n",
       "      <td>38787</td>\n",
       "    </tr>\n",
       "    <tr>\n",
       "      <th>2</th>\n",
       "      <td>(Drama, Romance)</td>\n",
       "      <td>38787</td>\n",
       "    </tr>\n",
       "    <tr>\n",
       "      <th>3</th>\n",
       "      <td>(Adventure, Drama)</td>\n",
       "      <td>100594</td>\n",
       "    </tr>\n",
       "    <tr>\n",
       "      <th>4</th>\n",
       "      <td>(Adventure, Romance)</td>\n",
       "      <td>100594</td>\n",
       "    </tr>\n",
       "  </tbody>\n",
       "</table>\n",
       "</div>"
      ],
      "text/plain": [
       "            pairs_genre  imdb_id\n",
       "0     (Thriller, Drama)    38787\n",
       "1   (Thriller, Romance)    38787\n",
       "2      (Drama, Romance)    38787\n",
       "3    (Adventure, Drama)   100594\n",
       "4  (Adventure, Romance)   100594"
      ]
     },
     "execution_count": 22,
     "metadata": {},
     "output_type": "execute_result"
    }
   ],
   "source": [
    "melted_pairs_genre.head()"
   ]
  },
  {
   "cell_type": "code",
   "execution_count": 23,
   "metadata": {},
   "outputs": [
    {
     "data": {
      "text/html": [
       "<div>\n",
       "<table border=\"1\" class=\"dataframe\">\n",
       "  <thead>\n",
       "    <tr style=\"text-align: right;\">\n",
       "      <th></th>\n",
       "      <th>uni_genre</th>\n",
       "      <th>imdb_id</th>\n",
       "    </tr>\n",
       "  </thead>\n",
       "  <tbody>\n",
       "    <tr>\n",
       "      <th>0</th>\n",
       "      <td>(Thriller,)</td>\n",
       "      <td>38787</td>\n",
       "    </tr>\n",
       "    <tr>\n",
       "      <th>1</th>\n",
       "      <td>(Drama,)</td>\n",
       "      <td>38787</td>\n",
       "    </tr>\n",
       "    <tr>\n",
       "      <th>2</th>\n",
       "      <td>(Romance,)</td>\n",
       "      <td>38787</td>\n",
       "    </tr>\n",
       "    <tr>\n",
       "      <th>3</th>\n",
       "      <td>(Horror,)</td>\n",
       "      <td>1935896</td>\n",
       "    </tr>\n",
       "    <tr>\n",
       "      <th>4</th>\n",
       "      <td>(Western,)</td>\n",
       "      <td>67140</td>\n",
       "    </tr>\n",
       "  </tbody>\n",
       "</table>\n",
       "</div>"
      ],
      "text/plain": [
       "     uni_genre  imdb_id\n",
       "0  (Thriller,)    38787\n",
       "1     (Drama,)    38787\n",
       "2   (Romance,)    38787\n",
       "3    (Horror,)  1935896\n",
       "4   (Western,)    67140"
      ]
     },
     "execution_count": 23,
     "metadata": {},
     "output_type": "execute_result"
    }
   ],
   "source": [
    "melted_uni_genre.head()"
   ]
  },
  {
   "cell_type": "code",
   "execution_count": 24,
   "metadata": {},
   "outputs": [
    {
     "data": {
      "text/plain": [
       "Counter({(u'Action',): 1007,\n",
       "         (u'Adventure',): 632,\n",
       "         (u'Animation',): 286,\n",
       "         (u'Comedy',): 1459,\n",
       "         (u'Crime',): 577,\n",
       "         (u'Documentary',): 151,\n",
       "         (u'Drama',): 1969,\n",
       "         (u'Family',): 507,\n",
       "         (u'Fantasy',): 374,\n",
       "         (u'Foreign',): 36,\n",
       "         (u'History',): 139,\n",
       "         (u'Horror',): 620,\n",
       "         (u'Music',): 133,\n",
       "         (u'Mystery',): 349,\n",
       "         (u'Romance',): 731,\n",
       "         (u'Science Fiction',): 481,\n",
       "         (u'TV Movie',): 78,\n",
       "         (u'Thriller',): 1207,\n",
       "         (u'War',): 132,\n",
       "         (u'Western',): 98})"
      ]
     },
     "execution_count": 24,
     "metadata": {},
     "output_type": "execute_result"
    }
   ],
   "source": [
    "Counter(melted_uni_genre.uni_genre)"
   ]
  },
  {
   "cell_type": "code",
   "execution_count": 25,
   "metadata": {
    "collapsed": true
   },
   "outputs": [],
   "source": [
    "merged_mdb_uni = pd.merge(melted_uni_genre, merged_mdb_final , how ='left', on = 'imdb_id');"
   ]
  },
  {
   "cell_type": "code",
   "execution_count": 26,
   "metadata": {},
   "outputs": [
    {
     "name": "stdout",
     "output_type": "stream",
     "text": [
      "10966\n"
     ]
    }
   ],
   "source": [
    "print len(merged_mdb_uni), \n",
    "#merged_mdb_uni.head(2)"
   ]
  },
  {
   "cell_type": "code",
   "execution_count": 27,
   "metadata": {
    "collapsed": true
   },
   "outputs": [],
   "source": [
    "merged_mdb_pair = pd.merge(melted_pairs_genre, merged_mdb_final , how ='left', on = 'imdb_id');"
   ]
  },
  {
   "cell_type": "code",
   "execution_count": 28,
   "metadata": {},
   "outputs": [
    {
     "name": "stdout",
     "output_type": "stream",
     "text": [
      "11043\n"
     ]
    }
   ],
   "source": [
    "print len(merged_mdb_pair), \n",
    "#merged_mdb_pair.tail(5)"
   ]
  },
  {
   "cell_type": "code",
   "execution_count": 29,
   "metadata": {},
   "outputs": [
    {
     "data": {
      "text/plain": [
       "((10966, 25), (11043, 25))"
      ]
     },
     "execution_count": 29,
     "metadata": {},
     "output_type": "execute_result"
    }
   ],
   "source": [
    "merged_mdb_uni.shape, merged_mdb_pair.shape"
   ]
  },
  {
   "cell_type": "code",
   "execution_count": 30,
   "metadata": {},
   "outputs": [
    {
     "data": {
      "text/html": [
       "<div>\n",
       "<table border=\"1\" class=\"dataframe\">\n",
       "  <thead>\n",
       "    <tr style=\"text-align: right;\">\n",
       "      <th></th>\n",
       "      <th>vote_count</th>\n",
       "      <th>rating</th>\n",
       "      <th>votes</th>\n",
       "      <th>year</th>\n",
       "      <th>cast</th>\n",
       "      <th>director</th>\n",
       "      <th>writer</th>\n",
       "      <th>modified_genres</th>\n",
       "      <th>pairs_genre</th>\n",
       "      <th>uni_genre_y</th>\n",
       "    </tr>\n",
       "  </thead>\n",
       "  <tbody>\n",
       "    <tr>\n",
       "      <th>0</th>\n",
       "      <td>250</td>\n",
       "      <td>8.0</td>\n",
       "      <td>76704.0</td>\n",
       "      <td>1946.0</td>\n",
       "      <td>400</td>\n",
       "      <td>90</td>\n",
       "      <td>378</td>\n",
       "      <td>[Thriller, Drama, Romance]</td>\n",
       "      <td>[(Thriller, Drama), (Thriller, Romance), (Dram...</td>\n",
       "      <td>[(Thriller,), (Drama,), (Romance,)]</td>\n",
       "    </tr>\n",
       "    <tr>\n",
       "      <th>1</th>\n",
       "      <td>250</td>\n",
       "      <td>8.0</td>\n",
       "      <td>76704.0</td>\n",
       "      <td>1946.0</td>\n",
       "      <td>400</td>\n",
       "      <td>90</td>\n",
       "      <td>378</td>\n",
       "      <td>[Thriller, Drama, Romance]</td>\n",
       "      <td>[(Thriller, Drama), (Thriller, Romance), (Dram...</td>\n",
       "      <td>[(Thriller,), (Drama,), (Romance,)]</td>\n",
       "    </tr>\n",
       "    <tr>\n",
       "      <th>2</th>\n",
       "      <td>250</td>\n",
       "      <td>8.0</td>\n",
       "      <td>76704.0</td>\n",
       "      <td>1946.0</td>\n",
       "      <td>400</td>\n",
       "      <td>90</td>\n",
       "      <td>378</td>\n",
       "      <td>[Thriller, Drama, Romance]</td>\n",
       "      <td>[(Thriller, Drama), (Thriller, Romance), (Dram...</td>\n",
       "      <td>[(Thriller,), (Drama,), (Romance,)]</td>\n",
       "    </tr>\n",
       "    <tr>\n",
       "      <th>3</th>\n",
       "      <td>137</td>\n",
       "      <td>4.7</td>\n",
       "      <td>14951.0</td>\n",
       "      <td>2012.0</td>\n",
       "      <td>792</td>\n",
       "      <td>1493</td>\n",
       "      <td>278</td>\n",
       "      <td>[Horror]</td>\n",
       "      <td>[]</td>\n",
       "      <td>[(Horror,)]</td>\n",
       "    </tr>\n",
       "    <tr>\n",
       "      <th>4</th>\n",
       "      <td>129</td>\n",
       "      <td>7.7</td>\n",
       "      <td>22832.0</td>\n",
       "      <td>1971.0</td>\n",
       "      <td>2114</td>\n",
       "      <td>2489</td>\n",
       "      <td>3508</td>\n",
       "      <td>[Western]</td>\n",
       "      <td>[]</td>\n",
       "      <td>[(Western,)]</td>\n",
       "    </tr>\n",
       "    <tr>\n",
       "      <th>5</th>\n",
       "      <td>37</td>\n",
       "      <td>6.8</td>\n",
       "      <td>9117.0</td>\n",
       "      <td>1990.0</td>\n",
       "      <td>636</td>\n",
       "      <td>253</td>\n",
       "      <td>2946</td>\n",
       "      <td>[Adventure, Drama, Romance]</td>\n",
       "      <td>[(Adventure, Drama), (Adventure, Romance), (Dr...</td>\n",
       "      <td>[(Adventure,), (Drama,), (Romance,)]</td>\n",
       "    </tr>\n",
       "    <tr>\n",
       "      <th>6</th>\n",
       "      <td>37</td>\n",
       "      <td>6.8</td>\n",
       "      <td>9117.0</td>\n",
       "      <td>1990.0</td>\n",
       "      <td>636</td>\n",
       "      <td>253</td>\n",
       "      <td>2946</td>\n",
       "      <td>[Adventure, Drama, Romance]</td>\n",
       "      <td>[(Adventure, Drama), (Adventure, Romance), (Dr...</td>\n",
       "      <td>[(Adventure,), (Drama,), (Romance,)]</td>\n",
       "    </tr>\n",
       "    <tr>\n",
       "      <th>7</th>\n",
       "      <td>37</td>\n",
       "      <td>6.8</td>\n",
       "      <td>9117.0</td>\n",
       "      <td>1990.0</td>\n",
       "      <td>636</td>\n",
       "      <td>253</td>\n",
       "      <td>2946</td>\n",
       "      <td>[Adventure, Drama, Romance]</td>\n",
       "      <td>[(Adventure, Drama), (Adventure, Romance), (Dr...</td>\n",
       "      <td>[(Adventure,), (Drama,), (Romance,)]</td>\n",
       "    </tr>\n",
       "    <tr>\n",
       "      <th>8</th>\n",
       "      <td>12</td>\n",
       "      <td>4.1</td>\n",
       "      <td>12993.0</td>\n",
       "      <td>2010.0</td>\n",
       "      <td>2172</td>\n",
       "      <td>2698</td>\n",
       "      <td>3509</td>\n",
       "      <td>[Comedy]</td>\n",
       "      <td>[]</td>\n",
       "      <td>[(Comedy,)]</td>\n",
       "    </tr>\n",
       "    <tr>\n",
       "      <th>9</th>\n",
       "      <td>72</td>\n",
       "      <td>5.5</td>\n",
       "      <td>5820.0</td>\n",
       "      <td>2013.0</td>\n",
       "      <td>1673</td>\n",
       "      <td>1021</td>\n",
       "      <td>1750</td>\n",
       "      <td>[Action, Science Fiction]</td>\n",
       "      <td>[(Action, Science Fiction)]</td>\n",
       "      <td>[(Action,), (Science Fiction,)]</td>\n",
       "    </tr>\n",
       "  </tbody>\n",
       "</table>\n",
       "</div>"
      ],
      "text/plain": [
       "   vote_count  rating    votes    year  cast  director  writer  \\\n",
       "0         250     8.0  76704.0  1946.0   400        90     378   \n",
       "1         250     8.0  76704.0  1946.0   400        90     378   \n",
       "2         250     8.0  76704.0  1946.0   400        90     378   \n",
       "3         137     4.7  14951.0  2012.0   792      1493     278   \n",
       "4         129     7.7  22832.0  1971.0  2114      2489    3508   \n",
       "5          37     6.8   9117.0  1990.0   636       253    2946   \n",
       "6          37     6.8   9117.0  1990.0   636       253    2946   \n",
       "7          37     6.8   9117.0  1990.0   636       253    2946   \n",
       "8          12     4.1  12993.0  2010.0  2172      2698    3509   \n",
       "9          72     5.5   5820.0  2013.0  1673      1021    1750   \n",
       "\n",
       "               modified_genres  \\\n",
       "0   [Thriller, Drama, Romance]   \n",
       "1   [Thriller, Drama, Romance]   \n",
       "2   [Thriller, Drama, Romance]   \n",
       "3                     [Horror]   \n",
       "4                    [Western]   \n",
       "5  [Adventure, Drama, Romance]   \n",
       "6  [Adventure, Drama, Romance]   \n",
       "7  [Adventure, Drama, Romance]   \n",
       "8                     [Comedy]   \n",
       "9    [Action, Science Fiction]   \n",
       "\n",
       "                                         pairs_genre  \\\n",
       "0  [(Thriller, Drama), (Thriller, Romance), (Dram...   \n",
       "1  [(Thriller, Drama), (Thriller, Romance), (Dram...   \n",
       "2  [(Thriller, Drama), (Thriller, Romance), (Dram...   \n",
       "3                                                 []   \n",
       "4                                                 []   \n",
       "5  [(Adventure, Drama), (Adventure, Romance), (Dr...   \n",
       "6  [(Adventure, Drama), (Adventure, Romance), (Dr...   \n",
       "7  [(Adventure, Drama), (Adventure, Romance), (Dr...   \n",
       "8                                                 []   \n",
       "9                        [(Action, Science Fiction)]   \n",
       "\n",
       "                            uni_genre_y  \n",
       "0   [(Thriller,), (Drama,), (Romance,)]  \n",
       "1   [(Thriller,), (Drama,), (Romance,)]  \n",
       "2   [(Thriller,), (Drama,), (Romance,)]  \n",
       "3                           [(Horror,)]  \n",
       "4                          [(Western,)]  \n",
       "5  [(Adventure,), (Drama,), (Romance,)]  \n",
       "6  [(Adventure,), (Drama,), (Romance,)]  \n",
       "7  [(Adventure,), (Drama,), (Romance,)]  \n",
       "8                           [(Comedy,)]  \n",
       "9       [(Action,), (Science Fiction,)]  "
      ]
     },
     "execution_count": 30,
     "metadata": {},
     "output_type": "execute_result"
    }
   ],
   "source": [
    "merged_mdb_uni.iloc[:,15:25].head(10)"
   ]
  },
  {
   "cell_type": "code",
   "execution_count": 31,
   "metadata": {},
   "outputs": [
    {
     "data": {
      "text/plain": [
       "Index([u'uni_genre_x', u'imdb_id', u'title_x', u'overview', u'budget',\n",
       "       u'genres', u'revenue', u'runtime', u'original_language', u'popularity',\n",
       "       u'original_title', u'poster_path', u'production_companies',\n",
       "       u'production_countries', u'vote_average', u'vote_count', u'rating',\n",
       "       u'votes', u'year', u'cast', u'director', u'writer', u'modified_genres',\n",
       "       u'pairs_genre', u'uni_genre_y'],\n",
       "      dtype='object')"
      ]
     },
     "execution_count": 31,
     "metadata": {},
     "output_type": "execute_result"
    }
   ],
   "source": [
    "merged_mdb_uni.keys()"
   ]
  },
  {
   "cell_type": "markdown",
   "metadata": {},
   "source": [
    "### Prepare data for modeling - Uni"
   ]
  },
  {
   "cell_type": "code",
   "execution_count": 32,
   "metadata": {
    "collapsed": true
   },
   "outputs": [],
   "source": [
    "#Uni\n",
    "#Delete features that will not be of interest\n",
    "\n",
    "merged_mdb_uni = merged_mdb_uni.drop(['imdb_id'], axis=1)\n",
    "merged_mdb_uni = merged_mdb_uni.drop(['title_x'], axis=1)\n",
    "merged_mdb_uni = merged_mdb_uni.drop(['original_language'], axis=1)\n",
    "merged_mdb_uni = merged_mdb_uni.drop(['poster_path'], axis=1)\n",
    "merged_mdb_uni = merged_mdb_uni.drop(['modified_genres'], axis=1)\n",
    "merged_mdb_uni = merged_mdb_uni.drop(['uni_genre_y'], axis=1)\n"
   ]
  },
  {
   "cell_type": "code",
   "execution_count": 33,
   "metadata": {},
   "outputs": [
    {
     "data": {
      "text/html": [
       "<div>\n",
       "<table border=\"1\" class=\"dataframe\">\n",
       "  <thead>\n",
       "    <tr style=\"text-align: right;\">\n",
       "      <th></th>\n",
       "      <th>uni_genre_x</th>\n",
       "      <th>overview</th>\n",
       "      <th>budget</th>\n",
       "      <th>genres</th>\n",
       "      <th>revenue</th>\n",
       "      <th>runtime</th>\n",
       "      <th>popularity</th>\n",
       "      <th>original_title</th>\n",
       "      <th>production_companies</th>\n",
       "      <th>production_countries</th>\n",
       "      <th>vote_average</th>\n",
       "      <th>vote_count</th>\n",
       "      <th>rating</th>\n",
       "      <th>votes</th>\n",
       "      <th>year</th>\n",
       "      <th>cast</th>\n",
       "      <th>director</th>\n",
       "      <th>writer</th>\n",
       "      <th>pairs_genre</th>\n",
       "    </tr>\n",
       "  </thead>\n",
       "  <tbody>\n",
       "    <tr>\n",
       "      <th>0</th>\n",
       "      <td>(Thriller,)</td>\n",
       "      <td>[u'Released shortly after the war, this classi...</td>\n",
       "      <td>2000000</td>\n",
       "      <td>[Thriller, Drama, Romance]</td>\n",
       "      <td>24464742</td>\n",
       "      <td>102.0</td>\n",
       "      <td>1.520523</td>\n",
       "      <td>[u'Notorious']</td>\n",
       "      <td>1149</td>\n",
       "      <td>63</td>\n",
       "      <td>7.7</td>\n",
       "      <td>250</td>\n",
       "      <td>8.0</td>\n",
       "      <td>76704.0</td>\n",
       "      <td>1946.0</td>\n",
       "      <td>400</td>\n",
       "      <td>90</td>\n",
       "      <td>378</td>\n",
       "      <td>[(Thriller, Drama), (Thriller, Romance), (Dram...</td>\n",
       "    </tr>\n",
       "    <tr>\n",
       "      <th>1</th>\n",
       "      <td>(Drama,)</td>\n",
       "      <td>[u'Released shortly after the war, this classi...</td>\n",
       "      <td>2000000</td>\n",
       "      <td>[Thriller, Drama, Romance]</td>\n",
       "      <td>24464742</td>\n",
       "      <td>102.0</td>\n",
       "      <td>1.520523</td>\n",
       "      <td>[u'Notorious']</td>\n",
       "      <td>1149</td>\n",
       "      <td>63</td>\n",
       "      <td>7.7</td>\n",
       "      <td>250</td>\n",
       "      <td>8.0</td>\n",
       "      <td>76704.0</td>\n",
       "      <td>1946.0</td>\n",
       "      <td>400</td>\n",
       "      <td>90</td>\n",
       "      <td>378</td>\n",
       "      <td>[(Thriller, Drama), (Thriller, Romance), (Dram...</td>\n",
       "    </tr>\n",
       "    <tr>\n",
       "      <th>2</th>\n",
       "      <td>(Romance,)</td>\n",
       "      <td>[u'Released shortly after the war, this classi...</td>\n",
       "      <td>2000000</td>\n",
       "      <td>[Thriller, Drama, Romance]</td>\n",
       "      <td>24464742</td>\n",
       "      <td>102.0</td>\n",
       "      <td>1.520523</td>\n",
       "      <td>[u'Notorious']</td>\n",
       "      <td>1149</td>\n",
       "      <td>63</td>\n",
       "      <td>7.7</td>\n",
       "      <td>250</td>\n",
       "      <td>8.0</td>\n",
       "      <td>76704.0</td>\n",
       "      <td>1946.0</td>\n",
       "      <td>400</td>\n",
       "      <td>90</td>\n",
       "      <td>378</td>\n",
       "      <td>[(Thriller, Drama), (Thriller, Romance), (Dram...</td>\n",
       "    </tr>\n",
       "    <tr>\n",
       "      <th>3</th>\n",
       "      <td>(Horror,)</td>\n",
       "      <td>[u\"An ambitious anthology film featuring segme...</td>\n",
       "      <td>0</td>\n",
       "      <td>[Horror]</td>\n",
       "      <td>21660</td>\n",
       "      <td>123.0</td>\n",
       "      <td>1.227384</td>\n",
       "      <td>[u'The ABCs of Death']</td>\n",
       "      <td>879</td>\n",
       "      <td>63</td>\n",
       "      <td>4.7</td>\n",
       "      <td>137</td>\n",
       "      <td>4.7</td>\n",
       "      <td>14951.0</td>\n",
       "      <td>2012.0</td>\n",
       "      <td>792</td>\n",
       "      <td>1493</td>\n",
       "      <td>278</td>\n",
       "      <td>[]</td>\n",
       "    </tr>\n",
       "    <tr>\n",
       "      <th>4</th>\n",
       "      <td>(Western,)</td>\n",
       "      <td>[u'At the beginning of the 1913 Mexican Revolu...</td>\n",
       "      <td>0</td>\n",
       "      <td>[Western]</td>\n",
       "      <td>0</td>\n",
       "      <td>157.0</td>\n",
       "      <td>0.335946</td>\n",
       "      <td>[u'Gi\\xf9 la testa']</td>\n",
       "      <td>1155</td>\n",
       "      <td>32</td>\n",
       "      <td>7.6</td>\n",
       "      <td>129</td>\n",
       "      <td>7.7</td>\n",
       "      <td>22832.0</td>\n",
       "      <td>1971.0</td>\n",
       "      <td>2114</td>\n",
       "      <td>2489</td>\n",
       "      <td>3508</td>\n",
       "      <td>[]</td>\n",
       "    </tr>\n",
       "  </tbody>\n",
       "</table>\n",
       "</div>"
      ],
      "text/plain": [
       "   uni_genre_x                                           overview   budget  \\\n",
       "0  (Thriller,)  [u'Released shortly after the war, this classi...  2000000   \n",
       "1     (Drama,)  [u'Released shortly after the war, this classi...  2000000   \n",
       "2   (Romance,)  [u'Released shortly after the war, this classi...  2000000   \n",
       "3    (Horror,)  [u\"An ambitious anthology film featuring segme...        0   \n",
       "4   (Western,)  [u'At the beginning of the 1913 Mexican Revolu...        0   \n",
       "\n",
       "                       genres   revenue  runtime  popularity  \\\n",
       "0  [Thriller, Drama, Romance]  24464742    102.0    1.520523   \n",
       "1  [Thriller, Drama, Romance]  24464742    102.0    1.520523   \n",
       "2  [Thriller, Drama, Romance]  24464742    102.0    1.520523   \n",
       "3                    [Horror]     21660    123.0    1.227384   \n",
       "4                   [Western]         0    157.0    0.335946   \n",
       "\n",
       "           original_title  production_companies  production_countries  \\\n",
       "0          [u'Notorious']                  1149                    63   \n",
       "1          [u'Notorious']                  1149                    63   \n",
       "2          [u'Notorious']                  1149                    63   \n",
       "3  [u'The ABCs of Death']                   879                    63   \n",
       "4    [u'Gi\\xf9 la testa']                  1155                    32   \n",
       "\n",
       "   vote_average  vote_count  rating    votes    year  cast  director  writer  \\\n",
       "0           7.7         250     8.0  76704.0  1946.0   400        90     378   \n",
       "1           7.7         250     8.0  76704.0  1946.0   400        90     378   \n",
       "2           7.7         250     8.0  76704.0  1946.0   400        90     378   \n",
       "3           4.7         137     4.7  14951.0  2012.0   792      1493     278   \n",
       "4           7.6         129     7.7  22832.0  1971.0  2114      2489    3508   \n",
       "\n",
       "                                         pairs_genre  \n",
       "0  [(Thriller, Drama), (Thriller, Romance), (Dram...  \n",
       "1  [(Thriller, Drama), (Thriller, Romance), (Dram...  \n",
       "2  [(Thriller, Drama), (Thriller, Romance), (Dram...  \n",
       "3                                                 []  \n",
       "4                                                 []  "
      ]
     },
     "execution_count": 33,
     "metadata": {},
     "output_type": "execute_result"
    }
   ],
   "source": [
    "merged_mdb_uni.head(5)"
   ]
  },
  {
   "cell_type": "code",
   "execution_count": 34,
   "metadata": {},
   "outputs": [],
   "source": [
    "#Uni\n",
    "#Fix missing values\n",
    "merged_mdb_uni['runtime'].fillna(value=merged_mdb_uni['runtime'].mean(), inplace=True)\n",
    "merged_mdb_uni['rating'].fillna(value=merged_mdb_uni['rating'].mean(), inplace=True)\n",
    "merged_mdb_uni['votes'].fillna(value=merged_mdb_uni['votes'].mean(), inplace=True)\n",
    "merged_mdb_uni['year'].fillna(value=merged_mdb_uni['year'].mean(), inplace=True)\n",
    "\n",
    "#budget\n",
    "mean_plug = merged_mdb_uni[merged_mdb_uni['budget']>0]['budget'].mean()\n",
    "\n",
    "for i in range(merged_mdb_uni.shape[0]):\n",
    "    if(merged_mdb_uni['budget'][i]==0):\n",
    "        merged_mdb_uni['budget'][i] = mean_plug\n",
    "        \n",
    "#revenue\n",
    "mean_plug = merged_mdb_uni[merged_mdb_uni['revenue']>0]['revenue'].mean()\n",
    "\n",
    "for i in range(merged_mdb_uni.shape[0]):\n",
    "    if(merged_mdb_uni['revenue'][i]==0):\n",
    "        merged_mdb_uni['revenue'][i] = mean_plug\n",
    "        \n"
   ]
  },
  {
   "cell_type": "code",
   "execution_count": 36,
   "metadata": {},
   "outputs": [
    {
     "data": {
      "text/plain": [
       "LabelEncoder()"
      ]
     },
     "execution_count": 36,
     "metadata": {},
     "output_type": "execute_result"
    }
   ],
   "source": [
    "#Encode\n",
    "merged_mdb_uni2 = merged_mdb_uni\n",
    "\n",
    "#Convert Y variable to numerical value prior to modelling\n",
    "from sklearn import preprocessing\n",
    "le = preprocessing.LabelEncoder()\n",
    "\n",
    "le.fit(merged_mdb_uni2['uni_genre_x'])\n",
    "merged_mdb_uni2['uni_genre_x'] = le.transform(merged_mdb_uni2['uni_genre_x']) \n"
   ]
  },
  {
   "cell_type": "code",
   "execution_count": 37,
   "metadata": {},
   "outputs": [
    {
     "data": {
      "text/html": [
       "<div>\n",
       "<table border=\"1\" class=\"dataframe\">\n",
       "  <thead>\n",
       "    <tr style=\"text-align: right;\">\n",
       "      <th></th>\n",
       "      <th>uni_genre_x</th>\n",
       "      <th>budget</th>\n",
       "      <th>revenue</th>\n",
       "      <th>runtime</th>\n",
       "      <th>popularity</th>\n",
       "      <th>production_companies</th>\n",
       "      <th>production_countries</th>\n",
       "      <th>vote_average</th>\n",
       "      <th>vote_count</th>\n",
       "      <th>rating</th>\n",
       "      <th>votes</th>\n",
       "      <th>year</th>\n",
       "      <th>cast</th>\n",
       "      <th>director</th>\n",
       "      <th>writer</th>\n",
       "    </tr>\n",
       "  </thead>\n",
       "  <tbody>\n",
       "    <tr>\n",
       "      <th>count</th>\n",
       "      <td>10966.000000</td>\n",
       "      <td>1.096600e+04</td>\n",
       "      <td>1.096600e+04</td>\n",
       "      <td>10966.000000</td>\n",
       "      <td>10966.000000</td>\n",
       "      <td>10966.000000</td>\n",
       "      <td>10966.000000</td>\n",
       "      <td>10966.000000</td>\n",
       "      <td>10966.000000</td>\n",
       "      <td>10966.000000</td>\n",
       "      <td>1.096600e+04</td>\n",
       "      <td>10966.000000</td>\n",
       "      <td>10966.000000</td>\n",
       "      <td>10966.000000</td>\n",
       "      <td>10966.000000</td>\n",
       "    </tr>\n",
       "    <tr>\n",
       "      <th>mean</th>\n",
       "      <td>7.762174</td>\n",
       "      <td>3.352025e+07</td>\n",
       "      <td>1.020663e+08</td>\n",
       "      <td>101.036395</td>\n",
       "      <td>0.839532</td>\n",
       "      <td>823.529911</td>\n",
       "      <td>51.744939</td>\n",
       "      <td>5.852380</td>\n",
       "      <td>272.291993</td>\n",
       "      <td>6.247605</td>\n",
       "      <td>4.382379e+04</td>\n",
       "      <td>1997.501922</td>\n",
       "      <td>1303.374065</td>\n",
       "      <td>1462.325278</td>\n",
       "      <td>2018.665603</td>\n",
       "    </tr>\n",
       "    <tr>\n",
       "      <th>std</th>\n",
       "      <td>5.692114</td>\n",
       "      <td>2.763338e+07</td>\n",
       "      <td>1.206148e+08</td>\n",
       "      <td>30.019058</td>\n",
       "      <td>1.101293</td>\n",
       "      <td>530.606707</td>\n",
       "      <td>20.458051</td>\n",
       "      <td>1.322162</td>\n",
       "      <td>648.064524</td>\n",
       "      <td>1.148413</td>\n",
       "      <td>9.252998e+04</td>\n",
       "      <td>18.309320</td>\n",
       "      <td>749.197277</td>\n",
       "      <td>834.866792</td>\n",
       "      <td>1188.878368</td>\n",
       "    </tr>\n",
       "    <tr>\n",
       "      <th>min</th>\n",
       "      <td>0.000000</td>\n",
       "      <td>1.000000e+00</td>\n",
       "      <td>1.000000e+00</td>\n",
       "      <td>0.000000</td>\n",
       "      <td>0.149949</td>\n",
       "      <td>0.000000</td>\n",
       "      <td>0.000000</td>\n",
       "      <td>0.000000</td>\n",
       "      <td>0.000000</td>\n",
       "      <td>1.400000</td>\n",
       "      <td>6.000000e+00</td>\n",
       "      <td>1903.000000</td>\n",
       "      <td>0.000000</td>\n",
       "      <td>0.000000</td>\n",
       "      <td>0.000000</td>\n",
       "    </tr>\n",
       "    <tr>\n",
       "      <th>25%</th>\n",
       "      <td>3.000000</td>\n",
       "      <td>2.100000e+07</td>\n",
       "      <td>5.516344e+07</td>\n",
       "      <td>90.000000</td>\n",
       "      <td>0.258154</td>\n",
       "      <td>301.000000</td>\n",
       "      <td>54.000000</td>\n",
       "      <td>5.300000</td>\n",
       "      <td>20.000000</td>\n",
       "      <td>5.600000</td>\n",
       "      <td>3.152000e+03</td>\n",
       "      <td>1991.000000</td>\n",
       "      <td>649.000000</td>\n",
       "      <td>738.000000</td>\n",
       "      <td>983.000000</td>\n",
       "    </tr>\n",
       "    <tr>\n",
       "      <th>50%</th>\n",
       "      <td>6.000000</td>\n",
       "      <td>3.352025e+07</td>\n",
       "      <td>1.020662e+08</td>\n",
       "      <td>98.000000</td>\n",
       "      <td>0.493629</td>\n",
       "      <td>924.000000</td>\n",
       "      <td>63.000000</td>\n",
       "      <td>6.000000</td>\n",
       "      <td>65.000000</td>\n",
       "      <td>6.300000</td>\n",
       "      <td>1.207600e+04</td>\n",
       "      <td>2004.000000</td>\n",
       "      <td>1264.000000</td>\n",
       "      <td>1450.000000</td>\n",
       "      <td>2005.500000</td>\n",
       "    </tr>\n",
       "    <tr>\n",
       "      <th>75%</th>\n",
       "      <td>13.000000</td>\n",
       "      <td>3.352025e+07</td>\n",
       "      <td>1.020662e+08</td>\n",
       "      <td>111.000000</td>\n",
       "      <td>0.984264</td>\n",
       "      <td>1346.000000</td>\n",
       "      <td>63.000000</td>\n",
       "      <td>6.600000</td>\n",
       "      <td>223.000000</td>\n",
       "      <td>7.100000</td>\n",
       "      <td>4.268200e+04</td>\n",
       "      <td>2010.000000</td>\n",
       "      <td>1969.000000</td>\n",
       "      <td>2228.000000</td>\n",
       "      <td>3049.750000</td>\n",
       "    </tr>\n",
       "    <tr>\n",
       "      <th>max</th>\n",
       "      <td>19.000000</td>\n",
       "      <td>2.800000e+08</td>\n",
       "      <td>2.781506e+09</td>\n",
       "      <td>705.000000</td>\n",
       "      <td>18.775748</td>\n",
       "      <td>1598.000000</td>\n",
       "      <td>64.000000</td>\n",
       "      <td>10.000000</td>\n",
       "      <td>9573.000000</td>\n",
       "      <td>9.500000</td>\n",
       "      <td>1.437777e+06</td>\n",
       "      <td>2017.000000</td>\n",
       "      <td>2607.000000</td>\n",
       "      <td>2856.000000</td>\n",
       "      <td>4067.000000</td>\n",
       "    </tr>\n",
       "  </tbody>\n",
       "</table>\n",
       "</div>"
      ],
      "text/plain": [
       "        uni_genre_x        budget       revenue       runtime    popularity  \\\n",
       "count  10966.000000  1.096600e+04  1.096600e+04  10966.000000  10966.000000   \n",
       "mean       7.762174  3.352025e+07  1.020663e+08    101.036395      0.839532   \n",
       "std        5.692114  2.763338e+07  1.206148e+08     30.019058      1.101293   \n",
       "min        0.000000  1.000000e+00  1.000000e+00      0.000000      0.149949   \n",
       "25%        3.000000  2.100000e+07  5.516344e+07     90.000000      0.258154   \n",
       "50%        6.000000  3.352025e+07  1.020662e+08     98.000000      0.493629   \n",
       "75%       13.000000  3.352025e+07  1.020662e+08    111.000000      0.984264   \n",
       "max       19.000000  2.800000e+08  2.781506e+09    705.000000     18.775748   \n",
       "\n",
       "       production_companies  production_countries  vote_average    vote_count  \\\n",
       "count          10966.000000          10966.000000  10966.000000  10966.000000   \n",
       "mean             823.529911             51.744939      5.852380    272.291993   \n",
       "std              530.606707             20.458051      1.322162    648.064524   \n",
       "min                0.000000              0.000000      0.000000      0.000000   \n",
       "25%              301.000000             54.000000      5.300000     20.000000   \n",
       "50%              924.000000             63.000000      6.000000     65.000000   \n",
       "75%             1346.000000             63.000000      6.600000    223.000000   \n",
       "max             1598.000000             64.000000     10.000000   9573.000000   \n",
       "\n",
       "             rating         votes          year          cast      director  \\\n",
       "count  10966.000000  1.096600e+04  10966.000000  10966.000000  10966.000000   \n",
       "mean       6.247605  4.382379e+04   1997.501922   1303.374065   1462.325278   \n",
       "std        1.148413  9.252998e+04     18.309320    749.197277    834.866792   \n",
       "min        1.400000  6.000000e+00   1903.000000      0.000000      0.000000   \n",
       "25%        5.600000  3.152000e+03   1991.000000    649.000000    738.000000   \n",
       "50%        6.300000  1.207600e+04   2004.000000   1264.000000   1450.000000   \n",
       "75%        7.100000  4.268200e+04   2010.000000   1969.000000   2228.000000   \n",
       "max        9.500000  1.437777e+06   2017.000000   2607.000000   2856.000000   \n",
       "\n",
       "             writer  \n",
       "count  10966.000000  \n",
       "mean    2018.665603  \n",
       "std     1188.878368  \n",
       "min        0.000000  \n",
       "25%      983.000000  \n",
       "50%     2005.500000  \n",
       "75%     3049.750000  \n",
       "max     4067.000000  "
      ]
     },
     "execution_count": 37,
     "metadata": {},
     "output_type": "execute_result"
    }
   ],
   "source": [
    "merged_mdb_uni2.describe()"
   ]
  },
  {
   "cell_type": "markdown",
   "metadata": {},
   "source": [
    "###  <span style=\"color:#08088A\">  NATURAL LANGUAGE PROCESSING OF PLOT SUMMARIES:  </span> \n",
    "\n",
    "Our aim is to analyse plot summaries and title by turning them into a vector of features. We will tokenize and count the word occurrences using a bag of words approach. Individual token occurrence frequency will be treated as a feature, as features will then enable us to predict the genre.\n"
   ]
  },
  {
   "cell_type": "code",
   "execution_count": 39,
   "metadata": {},
   "outputs": [
    {
     "name": "stdout",
     "output_type": "stream",
     "text": [
      "0       [u'Released shortly after the war, this classi...\n",
      "1       [u\"An ambitious anthology film featuring segme...\n",
      "2       [u'At the beginning of the 1913 Mexican Revolu...\n",
      "3       [u'An American couple (John Malkovich, Debra W...\n",
      "4                                 [u'No overview found.']\n",
      "5       [u'It\\u2019s been 20 years since the corporati...\n",
      "6       [u'Two brothers, on either side of the law, fa...\n",
      "7       [u'A purely observational non-fiction film tha...\n",
      "8       [u'A conservative lawyer named Diane takes her...\n",
      "9       [u'When Brainy Smurf is favored to win the ann...\n",
      "10      [u\"A woman's lifelong pursuit of lost family d...\n",
      "11      [u'The young Harold lives in his own world of ...\n",
      "12      [u'P-A-X-497/341, aka \\u201cPax\\u201d , a curi...\n",
      "13      [u'Jacq Vaucan, an insurance agent of ROC robo...\n",
      "14      [u'Andrew returns to his hometown for the fune...\n",
      "15      [u'A police detective is in charge of the inve...\n",
      "16      [u'\"The Straight Story\" chronicles a trip made...\n",
      "17      [u'Beginning in the 1930s, \"The English Patien...\n",
      "18      [u\"Siblings Lucy, Edmund, Susan and Peter step...\n",
      "19      [u'Wes Anderson\\u2019s incisive quirky comedy ...\n",
      "20      [u'The true story of how businessman Oskar Sch...\n",
      "21      [u'With the impending ice age almost upon them...\n",
      "22      [u\"Mark and David are best friends, photo jour...\n",
      "23      [u'The quiet life of a terrier named Max is up...\n",
      "24      [u'Cube Zero is the third film in the trilogy ...\n",
      "25      [u\"A sequel to 2004's Alien vs. Predator, the ...\n",
      "26      [u'Greg Heffley is headed for big things, but ...\n",
      "27      [u\"At Princeton University, John Nash struggle...\n",
      "28      [u\"This acclaimed thriller stars Jane Fonda as...\n",
      "29      [u'In this loose adaptation of Shakespeare\\'s ...\n",
      "                              ...                        \n",
      "4414    [u\"Join Barbie\\u2122 as Corinne\\u2122, a young...\n",
      "4415    [u\"This black comedy opens with Louisa Foster ...\n",
      "4416    [u'Good Boys Use Condoms is from a series of s...\n",
      "4417    [u'An attractive woman detective, expert in ca...\n",
      "4418    [u\"Married couple Jack and Terry Linden are ex...\n",
      "4419    [u'After being set-up and betrayed by the man ...\n",
      "4420    [u\"Henry struggles to bond with his estranged ...\n",
      "4421    [u'A bureaucratic snafu sends Marco Tullio Spe...\n",
      "4422    [u'High school senior Tara is so painfully shy...\n",
      "4423    [u'An inside look into one night in the San Fr...\n",
      "4424    [u\"Mitch Buchannon (David Hasselhoff) was beli...\n",
      "4425    [u\"The Henderson's just met their new neighbor...\n",
      "4426    [u'Moments before his comeback performance, a ...\n",
      "4427    [u'A doctor takes in a mysterious man who wash...\n",
      "4428    [u'Grammy-winning international superstar Shak...\n",
      "4429    [u\"On New Years Eve, 1899, baronet's son Edwar...\n",
      "4430    [u\"Britain, A.D. 117. Quintus Dias, the sole s...\n",
      "4431    [u'There is a new criminal mastermind at large...\n",
      "4432    [u'Charlie is an immigrant who endures a chall...\n",
      "4433    [u'Two full length feature horror movies writt...\n",
      "4434    [u'The classic story of Emma Bovary, the beaut...\n",
      "4435    [u'The true-life story of a mother who overcam...\n",
      "4436    [u\"Mayoral candidate Dr. Rachel Olsen (Brigitt...\n",
      "4437    [u'Justine and Juliette is a modern re-telling...\n",
      "4438    [u\"After a young, middle class couple moves in...\n",
      "4439    [u'Ella Connors is a single woman who gets pre...\n",
      "4440    [u\"Indian-born Manmohan Malhotra decided to re...\n",
      "4441    [u\"A self-centered realtor enlists the help of...\n",
      "4442    [u'Portrays the life of the former First Lady ...\n",
      "4443    [u\"A young woman's desperate search for her ab...\n",
      "Name: overview, dtype: object\n",
      "('number of words in plot summary: ', 11481)\n",
      "('number of words in title: ', 1813)\n"
     ]
    }
   ],
   "source": [
    "merged_mdb_final['overview'].fillna(value=np.nan, inplace=True)\n",
    "print(merged_mdb_final['overview'])\n",
    "\n",
    "from sklearn.feature_extraction.text import CountVectorizer\n",
    "\n",
    "#Overview\n",
    "vectorizer = CountVectorizer(stop_words='english',decode_error='ignore',analyzer='word', min_df=4)\n",
    "\n",
    "corpus = merged_mdb_uni2['overview'].values.astype('U')\n",
    "\n",
    "wordvec = vectorizer.fit_transform(corpus.ravel())\n",
    "wordvec = wordvec.toarray()\n",
    "words = vectorizer.get_feature_names()\n",
    "print(\"number of words in plot summary: \", len(words))\n",
    "overview_db = pd.DataFrame(wordvec,columns=words)\n",
    "\n",
    "#original_title\n",
    "vectorizer = CountVectorizer(stop_words='english',decode_error='ignore',analyzer='word', min_df=4)\n",
    "\n",
    "corpus = merged_mdb_uni2['original_title'].values.astype('U')\n",
    "\n",
    "wordvec = vectorizer.fit_transform(corpus.ravel())\n",
    "wordvec = wordvec.toarray()\n",
    "words = vectorizer.get_feature_names()\n",
    "print(\"number of words in title: \", len(words))\n",
    "original_title_db = pd.DataFrame(wordvec,columns=words)\n",
    "\n"
   ]
  },
  {
   "cell_type": "markdown",
   "metadata": {},
   "source": [
    "### PCA for overview (plot summary) and title"
   ]
  },
  {
   "cell_type": "code",
   "execution_count": 40,
   "metadata": {},
   "outputs": [
    {
     "data": {
      "text/plain": [
       "PCA(copy=True, n_components=100, whiten=False)"
      ]
     },
     "execution_count": 40,
     "metadata": {},
     "output_type": "execute_result"
    },
    {
     "data": {
      "text/plain": [
       "0.23678980938924304"
      ]
     },
     "execution_count": 40,
     "metadata": {},
     "output_type": "execute_result"
    }
   ],
   "source": [
    "from sklearn.decomposition import PCA\n",
    "\n",
    "#Overview\n",
    "\n",
    "#Number of vectors for d=3\n",
    "d=100\n",
    "\n",
    "#Fit PCA model\n",
    "pca = PCA(n_components = d)\n",
    "pca.fit(overview_db)\n",
    "pc = pca.components_\n",
    "overview_db_reduced = pca.transform(overview_db)\n",
    "\n",
    "pca.explained_variance_ratio_.sum()"
   ]
  },
  {
   "cell_type": "code",
   "execution_count": 41,
   "metadata": {},
   "outputs": [
    {
     "data": {
      "text/plain": [
       "PCA(copy=True, n_components=50, whiten=False)"
      ]
     },
     "execution_count": 41,
     "metadata": {},
     "output_type": "execute_result"
    },
    {
     "data": {
      "text/plain": [
       "0.20397150260829702"
      ]
     },
     "execution_count": 41,
     "metadata": {},
     "output_type": "execute_result"
    }
   ],
   "source": [
    "#original_title\n",
    "\n",
    "#Number of vectors for d=3\n",
    "d=50\n",
    "\n",
    "#Fit PCA model\n",
    "pca2 = PCA(n_components = d)\n",
    "pca2.fit(original_title_db)\n",
    "pc = pca2.components_\n",
    "original_title_db_reduced = pca2.transform(original_title_db)\n",
    "\n",
    "pca2.explained_variance_ratio_.sum()"
   ]
  },
  {
   "cell_type": "code",
   "execution_count": 42,
   "metadata": {
    "collapsed": true
   },
   "outputs": [],
   "source": [
    "overview_db_reduced = pd.DataFrame(overview_db_reduced)\n",
    "original_title_db_reduced = pd.DataFrame(original_title_db_reduced)"
   ]
  },
  {
   "cell_type": "code",
   "execution_count": 43,
   "metadata": {},
   "outputs": [
    {
     "data": {
      "text/html": [
       "<div>\n",
       "<table border=\"1\" class=\"dataframe\">\n",
       "  <thead>\n",
       "    <tr style=\"text-align: right;\">\n",
       "      <th></th>\n",
       "      <th>0</th>\n",
       "      <th>1</th>\n",
       "      <th>2</th>\n",
       "      <th>3</th>\n",
       "      <th>4</th>\n",
       "      <th>5</th>\n",
       "      <th>6</th>\n",
       "      <th>7</th>\n",
       "      <th>8</th>\n",
       "      <th>9</th>\n",
       "      <th>...</th>\n",
       "      <th>40</th>\n",
       "      <th>41</th>\n",
       "      <th>42</th>\n",
       "      <th>43</th>\n",
       "      <th>44</th>\n",
       "      <th>45</th>\n",
       "      <th>46</th>\n",
       "      <th>47</th>\n",
       "      <th>48</th>\n",
       "      <th>49</th>\n",
       "    </tr>\n",
       "  </thead>\n",
       "  <tbody>\n",
       "    <tr>\n",
       "      <th>0</th>\n",
       "      <td>0.015592</td>\n",
       "      <td>-0.005735</td>\n",
       "      <td>0.009263</td>\n",
       "      <td>-0.014544</td>\n",
       "      <td>0.006591</td>\n",
       "      <td>-0.000804</td>\n",
       "      <td>0.012360</td>\n",
       "      <td>-0.008121</td>\n",
       "      <td>0.006992</td>\n",
       "      <td>0.004225</td>\n",
       "      <td>...</td>\n",
       "      <td>0.004452</td>\n",
       "      <td>0.000702</td>\n",
       "      <td>-0.002160</td>\n",
       "      <td>0.005036</td>\n",
       "      <td>-0.00070</td>\n",
       "      <td>-0.001071</td>\n",
       "      <td>-0.000178</td>\n",
       "      <td>-0.000277</td>\n",
       "      <td>-0.000030</td>\n",
       "      <td>-0.002688</td>\n",
       "    </tr>\n",
       "    <tr>\n",
       "      <th>1</th>\n",
       "      <td>0.015592</td>\n",
       "      <td>-0.005735</td>\n",
       "      <td>0.009263</td>\n",
       "      <td>-0.014544</td>\n",
       "      <td>0.006591</td>\n",
       "      <td>-0.000804</td>\n",
       "      <td>0.012360</td>\n",
       "      <td>-0.008121</td>\n",
       "      <td>0.006992</td>\n",
       "      <td>0.004225</td>\n",
       "      <td>...</td>\n",
       "      <td>0.004452</td>\n",
       "      <td>0.000702</td>\n",
       "      <td>-0.002160</td>\n",
       "      <td>0.005036</td>\n",
       "      <td>-0.00070</td>\n",
       "      <td>-0.001071</td>\n",
       "      <td>-0.000178</td>\n",
       "      <td>-0.000277</td>\n",
       "      <td>-0.000030</td>\n",
       "      <td>-0.002688</td>\n",
       "    </tr>\n",
       "    <tr>\n",
       "      <th>2</th>\n",
       "      <td>0.015592</td>\n",
       "      <td>-0.005735</td>\n",
       "      <td>0.009263</td>\n",
       "      <td>-0.014544</td>\n",
       "      <td>0.006591</td>\n",
       "      <td>-0.000804</td>\n",
       "      <td>0.012360</td>\n",
       "      <td>-0.008121</td>\n",
       "      <td>0.006992</td>\n",
       "      <td>0.004225</td>\n",
       "      <td>...</td>\n",
       "      <td>0.004452</td>\n",
       "      <td>0.000702</td>\n",
       "      <td>-0.002160</td>\n",
       "      <td>0.005036</td>\n",
       "      <td>-0.00070</td>\n",
       "      <td>-0.001071</td>\n",
       "      <td>-0.000178</td>\n",
       "      <td>-0.000277</td>\n",
       "      <td>-0.000030</td>\n",
       "      <td>-0.002688</td>\n",
       "    </tr>\n",
       "    <tr>\n",
       "      <th>3</th>\n",
       "      <td>0.035988</td>\n",
       "      <td>-0.285933</td>\n",
       "      <td>-0.436720</td>\n",
       "      <td>0.031043</td>\n",
       "      <td>-0.747430</td>\n",
       "      <td>0.231126</td>\n",
       "      <td>0.111129</td>\n",
       "      <td>-0.069579</td>\n",
       "      <td>-0.054692</td>\n",
       "      <td>0.001789</td>\n",
       "      <td>...</td>\n",
       "      <td>0.004660</td>\n",
       "      <td>0.001860</td>\n",
       "      <td>-0.005338</td>\n",
       "      <td>-0.006118</td>\n",
       "      <td>0.00736</td>\n",
       "      <td>-0.017016</td>\n",
       "      <td>0.002119</td>\n",
       "      <td>-0.022768</td>\n",
       "      <td>-0.001568</td>\n",
       "      <td>0.000091</td>\n",
       "    </tr>\n",
       "    <tr>\n",
       "      <th>4</th>\n",
       "      <td>0.020906</td>\n",
       "      <td>-0.010149</td>\n",
       "      <td>0.016812</td>\n",
       "      <td>-0.023863</td>\n",
       "      <td>0.012373</td>\n",
       "      <td>-0.003024</td>\n",
       "      <td>0.019902</td>\n",
       "      <td>-0.023912</td>\n",
       "      <td>0.007056</td>\n",
       "      <td>0.015236</td>\n",
       "      <td>...</td>\n",
       "      <td>-0.048110</td>\n",
       "      <td>-0.008537</td>\n",
       "      <td>0.003974</td>\n",
       "      <td>-0.026873</td>\n",
       "      <td>0.00935</td>\n",
       "      <td>0.029271</td>\n",
       "      <td>0.016595</td>\n",
       "      <td>0.026793</td>\n",
       "      <td>-0.004626</td>\n",
       "      <td>0.028715</td>\n",
       "    </tr>\n",
       "  </tbody>\n",
       "</table>\n",
       "<p>5 rows × 50 columns</p>\n",
       "</div>"
      ],
      "text/plain": [
       "         0         1         2         3         4         5         6   \\\n",
       "0  0.015592 -0.005735  0.009263 -0.014544  0.006591 -0.000804  0.012360   \n",
       "1  0.015592 -0.005735  0.009263 -0.014544  0.006591 -0.000804  0.012360   \n",
       "2  0.015592 -0.005735  0.009263 -0.014544  0.006591 -0.000804  0.012360   \n",
       "3  0.035988 -0.285933 -0.436720  0.031043 -0.747430  0.231126  0.111129   \n",
       "4  0.020906 -0.010149  0.016812 -0.023863  0.012373 -0.003024  0.019902   \n",
       "\n",
       "         7         8         9     ...           40        41        42  \\\n",
       "0 -0.008121  0.006992  0.004225    ...     0.004452  0.000702 -0.002160   \n",
       "1 -0.008121  0.006992  0.004225    ...     0.004452  0.000702 -0.002160   \n",
       "2 -0.008121  0.006992  0.004225    ...     0.004452  0.000702 -0.002160   \n",
       "3 -0.069579 -0.054692  0.001789    ...     0.004660  0.001860 -0.005338   \n",
       "4 -0.023912  0.007056  0.015236    ...    -0.048110 -0.008537  0.003974   \n",
       "\n",
       "         43       44        45        46        47        48        49  \n",
       "0  0.005036 -0.00070 -0.001071 -0.000178 -0.000277 -0.000030 -0.002688  \n",
       "1  0.005036 -0.00070 -0.001071 -0.000178 -0.000277 -0.000030 -0.002688  \n",
       "2  0.005036 -0.00070 -0.001071 -0.000178 -0.000277 -0.000030 -0.002688  \n",
       "3 -0.006118  0.00736 -0.017016  0.002119 -0.022768 -0.001568  0.000091  \n",
       "4 -0.026873  0.00935  0.029271  0.016595  0.026793 -0.004626  0.028715  \n",
       "\n",
       "[5 rows x 50 columns]"
      ]
     },
     "execution_count": 43,
     "metadata": {},
     "output_type": "execute_result"
    }
   ],
   "source": [
    "original_title_db_reduced.head()"
   ]
  },
  {
   "cell_type": "markdown",
   "metadata": {},
   "source": [
    "### Merge Overview - Title PCA and metadata database"
   ]
  },
  {
   "cell_type": "code",
   "execution_count": 44,
   "metadata": {
    "collapsed": true
   },
   "outputs": [],
   "source": [
    "merged_mdb_uni3 = merged_mdb_uni2"
   ]
  },
  {
   "cell_type": "code",
   "execution_count": 45,
   "metadata": {},
   "outputs": [
    {
     "data": {
      "text/html": [
       "<div>\n",
       "<table border=\"1\" class=\"dataframe\">\n",
       "  <thead>\n",
       "    <tr style=\"text-align: right;\">\n",
       "      <th></th>\n",
       "      <th>uni_genre_x</th>\n",
       "      <th>budget</th>\n",
       "      <th>genres</th>\n",
       "      <th>revenue</th>\n",
       "      <th>runtime</th>\n",
       "      <th>popularity</th>\n",
       "      <th>production_companies</th>\n",
       "      <th>production_countries</th>\n",
       "      <th>vote_average</th>\n",
       "      <th>vote_count</th>\n",
       "      <th>...</th>\n",
       "      <th>40</th>\n",
       "      <th>41</th>\n",
       "      <th>42</th>\n",
       "      <th>43</th>\n",
       "      <th>44</th>\n",
       "      <th>45</th>\n",
       "      <th>46</th>\n",
       "      <th>47</th>\n",
       "      <th>48</th>\n",
       "      <th>49</th>\n",
       "    </tr>\n",
       "  </thead>\n",
       "  <tbody>\n",
       "    <tr>\n",
       "      <th>0</th>\n",
       "      <td>17</td>\n",
       "      <td>2000000</td>\n",
       "      <td>[Thriller, Drama, Romance]</td>\n",
       "      <td>24464742</td>\n",
       "      <td>102.0</td>\n",
       "      <td>1.520523</td>\n",
       "      <td>1149</td>\n",
       "      <td>63</td>\n",
       "      <td>7.7</td>\n",
       "      <td>250</td>\n",
       "      <td>...</td>\n",
       "      <td>0.004452</td>\n",
       "      <td>0.000702</td>\n",
       "      <td>-0.002160</td>\n",
       "      <td>0.005036</td>\n",
       "      <td>-0.00070</td>\n",
       "      <td>-0.001071</td>\n",
       "      <td>-0.000178</td>\n",
       "      <td>-0.000277</td>\n",
       "      <td>-0.000030</td>\n",
       "      <td>-0.002688</td>\n",
       "    </tr>\n",
       "    <tr>\n",
       "      <th>1</th>\n",
       "      <td>6</td>\n",
       "      <td>2000000</td>\n",
       "      <td>[Thriller, Drama, Romance]</td>\n",
       "      <td>24464742</td>\n",
       "      <td>102.0</td>\n",
       "      <td>1.520523</td>\n",
       "      <td>1149</td>\n",
       "      <td>63</td>\n",
       "      <td>7.7</td>\n",
       "      <td>250</td>\n",
       "      <td>...</td>\n",
       "      <td>0.004452</td>\n",
       "      <td>0.000702</td>\n",
       "      <td>-0.002160</td>\n",
       "      <td>0.005036</td>\n",
       "      <td>-0.00070</td>\n",
       "      <td>-0.001071</td>\n",
       "      <td>-0.000178</td>\n",
       "      <td>-0.000277</td>\n",
       "      <td>-0.000030</td>\n",
       "      <td>-0.002688</td>\n",
       "    </tr>\n",
       "    <tr>\n",
       "      <th>2</th>\n",
       "      <td>14</td>\n",
       "      <td>2000000</td>\n",
       "      <td>[Thriller, Drama, Romance]</td>\n",
       "      <td>24464742</td>\n",
       "      <td>102.0</td>\n",
       "      <td>1.520523</td>\n",
       "      <td>1149</td>\n",
       "      <td>63</td>\n",
       "      <td>7.7</td>\n",
       "      <td>250</td>\n",
       "      <td>...</td>\n",
       "      <td>0.004452</td>\n",
       "      <td>0.000702</td>\n",
       "      <td>-0.002160</td>\n",
       "      <td>0.005036</td>\n",
       "      <td>-0.00070</td>\n",
       "      <td>-0.001071</td>\n",
       "      <td>-0.000178</td>\n",
       "      <td>-0.000277</td>\n",
       "      <td>-0.000030</td>\n",
       "      <td>-0.002688</td>\n",
       "    </tr>\n",
       "    <tr>\n",
       "      <th>3</th>\n",
       "      <td>11</td>\n",
       "      <td>33520253</td>\n",
       "      <td>[Horror]</td>\n",
       "      <td>21660</td>\n",
       "      <td>123.0</td>\n",
       "      <td>1.227384</td>\n",
       "      <td>879</td>\n",
       "      <td>63</td>\n",
       "      <td>4.7</td>\n",
       "      <td>137</td>\n",
       "      <td>...</td>\n",
       "      <td>0.004660</td>\n",
       "      <td>0.001860</td>\n",
       "      <td>-0.005338</td>\n",
       "      <td>-0.006118</td>\n",
       "      <td>0.00736</td>\n",
       "      <td>-0.017016</td>\n",
       "      <td>0.002119</td>\n",
       "      <td>-0.022768</td>\n",
       "      <td>-0.001568</td>\n",
       "      <td>0.000091</td>\n",
       "    </tr>\n",
       "    <tr>\n",
       "      <th>4</th>\n",
       "      <td>19</td>\n",
       "      <td>33520253</td>\n",
       "      <td>[Western]</td>\n",
       "      <td>102066250</td>\n",
       "      <td>157.0</td>\n",
       "      <td>0.335946</td>\n",
       "      <td>1155</td>\n",
       "      <td>32</td>\n",
       "      <td>7.6</td>\n",
       "      <td>129</td>\n",
       "      <td>...</td>\n",
       "      <td>-0.048110</td>\n",
       "      <td>-0.008537</td>\n",
       "      <td>0.003974</td>\n",
       "      <td>-0.026873</td>\n",
       "      <td>0.00935</td>\n",
       "      <td>0.029271</td>\n",
       "      <td>0.016595</td>\n",
       "      <td>0.026793</td>\n",
       "      <td>-0.004626</td>\n",
       "      <td>0.028715</td>\n",
       "    </tr>\n",
       "  </tbody>\n",
       "</table>\n",
       "<p>5 rows × 167 columns</p>\n",
       "</div>"
      ],
      "text/plain": [
       "   uni_genre_x    budget                      genres    revenue  runtime  \\\n",
       "0           17   2000000  [Thriller, Drama, Romance]   24464742    102.0   \n",
       "1            6   2000000  [Thriller, Drama, Romance]   24464742    102.0   \n",
       "2           14   2000000  [Thriller, Drama, Romance]   24464742    102.0   \n",
       "3           11  33520253                    [Horror]      21660    123.0   \n",
       "4           19  33520253                   [Western]  102066250    157.0   \n",
       "\n",
       "   popularity  production_companies  production_countries  vote_average  \\\n",
       "0    1.520523                  1149                    63           7.7   \n",
       "1    1.520523                  1149                    63           7.7   \n",
       "2    1.520523                  1149                    63           7.7   \n",
       "3    1.227384                   879                    63           4.7   \n",
       "4    0.335946                  1155                    32           7.6   \n",
       "\n",
       "   vote_count    ...           40        41        42        43       44  \\\n",
       "0         250    ...     0.004452  0.000702 -0.002160  0.005036 -0.00070   \n",
       "1         250    ...     0.004452  0.000702 -0.002160  0.005036 -0.00070   \n",
       "2         250    ...     0.004452  0.000702 -0.002160  0.005036 -0.00070   \n",
       "3         137    ...     0.004660  0.001860 -0.005338 -0.006118  0.00736   \n",
       "4         129    ...    -0.048110 -0.008537  0.003974 -0.026873  0.00935   \n",
       "\n",
       "         45        46        47        48        49  \n",
       "0 -0.001071 -0.000178 -0.000277 -0.000030 -0.002688  \n",
       "1 -0.001071 -0.000178 -0.000277 -0.000030 -0.002688  \n",
       "2 -0.001071 -0.000178 -0.000277 -0.000030 -0.002688  \n",
       "3 -0.017016  0.002119 -0.022768 -0.001568  0.000091  \n",
       "4  0.029271  0.016595  0.026793 -0.004626  0.028715  \n",
       "\n",
       "[5 rows x 167 columns]"
      ]
     },
     "execution_count": 45,
     "metadata": {},
     "output_type": "execute_result"
    }
   ],
   "source": [
    "# Merge \n",
    "merged_mdb_uni3 = merged_mdb_uni3.drop(['genres'], axis=1)\n",
    "merged_mdb_uni3 = merged_mdb_uni3.drop(['pairs_genre'], axis=1)\n",
    "merged_mdb_uni3 = merged_mdb_uni3.drop(['overview'], axis=1)\n",
    "merged_mdb_uni3 = merged_mdb_uni3.drop(['original_title'], axis=1)\n",
    "merged_mdb_uni3 = pd.concat([merged_mdb_uni3, overview_db_reduced], axis=1)\n",
    "merged_mdb_uni3 = pd.concat([merged_mdb_uni3, original_title_db_reduced], axis=1)\n",
    "merged_mdb_uni3.head()"
   ]
  },
  {
   "cell_type": "code",
   "execution_count": 125,
   "metadata": {},
   "outputs": [
    {
     "data": {
      "text/plain": [
       "Index([         u'uni_genre_x',               u'budget',\n",
       "                    u'revenue',              u'runtime',\n",
       "                 u'popularity', u'production_companies',\n",
       "       u'production_countries',         u'vote_average',\n",
       "                 u'vote_count',               u'rating',\n",
       "       ...\n",
       "                            40,                      41,\n",
       "                            42,                      43,\n",
       "                            44,                      45,\n",
       "                            46,                      47,\n",
       "                            48,                      49],\n",
       "      dtype='object', length=165)"
      ]
     },
     "execution_count": 125,
     "metadata": {},
     "output_type": "execute_result"
    }
   ],
   "source": [
    "merged_mdb_uni3.columns"
   ]
  },
  {
   "cell_type": "code",
   "execution_count": 124,
   "metadata": {},
   "outputs": [],
   "source": [
    "#Data ready for modeling\n",
    "dataset = merged_mdb_uni3\n",
    "dataset = dataset.dropna(axis = 0)"
   ]
  },
  {
   "cell_type": "markdown",
   "metadata": {},
   "source": [
    "### Change data types"
   ]
  },
  {
   "cell_type": "code",
   "execution_count": 126,
   "metadata": {
    "collapsed": true
   },
   "outputs": [],
   "source": [
    "dataset['production_companies'] = dataset['production_companies'].astype('category')\n",
    "dataset['production_countries'] = dataset['production_countries'].astype('category')\n",
    "dataset['cast'] = dataset['cast'].astype('category')\n",
    "dataset['director'] = dataset['director'].astype('category')\n",
    "dataset['writer'] = dataset['writer'].astype('category')\n",
    "dataset['uni_genre_x'] = dataset['uni_genre_x'].astype('category')"
   ]
  },
  {
   "cell_type": "markdown",
   "metadata": {
    "collapsed": true
   },
   "source": [
    "# Basic Modeling"
   ]
  },
  {
   "cell_type": "markdown",
   "metadata": {},
   "source": [
    "We have used Naive Model, logistic regression, random forest and SVM to classify genre. "
   ]
  },
  {
   "cell_type": "code",
   "execution_count": 127,
   "metadata": {},
   "outputs": [
    {
     "data": {
      "text/plain": [
       "6     1969\n",
       "3     1459\n",
       "17    1207\n",
       "0     1007\n",
       "14     731\n",
       "1      632\n",
       "11     620\n",
       "4      577\n",
       "7      507\n",
       "15     481\n",
       "8      374\n",
       "13     349\n",
       "2      286\n",
       "5      151\n",
       "10     139\n",
       "12     133\n",
       "18     132\n",
       "19      98\n",
       "16      78\n",
       "9       36\n",
       "Name: uni_genre_x, dtype: int64"
      ]
     },
     "execution_count": 127,
     "metadata": {},
     "output_type": "execute_result"
    }
   ],
   "source": [
    "dataset['uni_genre_x'].value_counts()"
   ]
  },
  {
   "cell_type": "markdown",
   "metadata": {},
   "source": [
    "**Imbalanced Y:**\n",
    "It seems that some genres are much more frequent than others, for example out of a sample of about 6500 movies, Western genre is observed 19 times while Drama is observed 1200 times. This makes accurate prediction difficult as the data is imbalanced. Therefore we will incorporate balancing weights to our model."
   ]
  },
  {
   "cell_type": "code",
   "execution_count": 128,
   "metadata": {},
   "outputs": [],
   "source": [
    "#from sklearn.model_selection port train_test_split\n",
    "#dataset_train, dataset_test  = train_test_split(dataset, test_size=0.2, random_state=42)\n",
    "\n",
    "from sklearn.cross_validation import train_test_split as sk_split\n",
    "\n",
    "# Split final version of data into training/test data sets\n",
    "dataset_train, dataset_test = sk_split(dataset, test_size = 0.3)\n",
    "\n",
    "#We'll use this for training, including cross validation\n",
    "#Set dependent variables and predictors\n",
    "y_train = dataset_train['uni_genre_x']\n",
    "y_test = dataset_test['uni_genre_x']\n",
    "x_train = dataset_train.drop(['uni_genre_x'], axis=1)\n",
    "x_test = dataset_test.drop(['uni_genre_x'], axis=1)"
   ]
  },
  {
   "cell_type": "markdown",
   "metadata": {},
   "source": [
    "### Naive Model:"
   ]
  },
  {
   "cell_type": "code",
   "execution_count": 129,
   "metadata": {},
   "outputs": [
    {
     "data": {
      "text/plain": [
       "0.179554988145176"
      ]
     },
     "execution_count": 129,
     "metadata": {},
     "output_type": "execute_result"
    }
   ],
   "source": [
    "float(dataset.iloc[:,0].value_counts().max())/dataset.iloc[:,0].value_counts().sum()"
   ]
  },
  {
   "cell_type": "markdown",
   "metadata": {},
   "source": [
    "### Logistic Regression"
   ]
  },
  {
   "cell_type": "code",
   "execution_count": 133,
   "metadata": {},
   "outputs": [
    {
     "data": {
      "text/plain": [
       "LogisticRegression(C=1000, class_weight=None, dual=False, fit_intercept=True,\n",
       "          intercept_scaling=1, max_iter=100, multi_class='ovr', n_jobs=1,\n",
       "          penalty='l2', random_state=None, solver='liblinear', tol=0.0001,\n",
       "          verbose=0, warm_start=False)"
      ]
     },
     "execution_count": 133,
     "metadata": {},
     "output_type": "execute_result"
    },
    {
     "data": {
      "text/plain": [
       "0.17926003126628454"
      ]
     },
     "execution_count": 133,
     "metadata": {},
     "output_type": "execute_result"
    },
    {
     "data": {
      "text/plain": [
       "0.18115501519756838"
      ]
     },
     "execution_count": 133,
     "metadata": {},
     "output_type": "execute_result"
    },
    {
     "name": "stdout",
     "output_type": "stream",
     "text": [
      "[[   1  275]\n",
      " [   2    2]\n",
      " [   3   21]\n",
      " [   4    4]\n",
      " [   6 2985]\n",
      " [   8    3]]\n"
     ]
    }
   ],
   "source": [
    "#Logistic Regression without balanced class weights\n",
    "from sklearn import linear_model\n",
    "import sklearn as sk\n",
    "\n",
    "logit = sk.linear_model.LogisticRegression( C = 1000)\n",
    "logit.fit(x_train, y_train)\n",
    "logit.score(x_train, y_train)\n",
    "logit.score(x_test, y_test)\n",
    "\n",
    "#predict Y and frequency table\n",
    "pred_y = logit.predict(x_test) \n",
    "\n",
    "def unique_count(a):\n",
    "    unique, inverse = np.unique(a, return_inverse=True)\n",
    "    count = np.zeros(len(unique), np.int)\n",
    "    np.add.at(count, inverse, 1)\n",
    "    return np.vstack(( unique, count)).T\n",
    "\n",
    "print unique_count(pred_y)\n"
   ]
  },
  {
   "cell_type": "code",
   "execution_count": 134,
   "metadata": {},
   "outputs": [
    {
     "data": {
      "text/plain": [
       "LogisticRegression(C=1000, class_weight='balanced', dual=False,\n",
       "          fit_intercept=True, intercept_scaling=1, max_iter=100,\n",
       "          multi_class='ovr', n_jobs=1, penalty='l2', random_state=None,\n",
       "          solver='liblinear', tol=0.0001, verbose=0, warm_start=False)"
      ]
     },
     "execution_count": 134,
     "metadata": {},
     "output_type": "execute_result"
    },
    {
     "data": {
      "text/plain": [
       "0.065528921313183955"
      ]
     },
     "execution_count": 134,
     "metadata": {},
     "output_type": "execute_result"
    },
    {
     "data": {
      "text/plain": [
       "0.056231003039513679"
      ]
     },
     "execution_count": 134,
     "metadata": {},
     "output_type": "execute_result"
    },
    {
     "name": "stdout",
     "output_type": "stream",
     "text": [
      "[[  0 318]\n",
      " [  1 567]\n",
      " [  2  56]\n",
      " [  5   5]\n",
      " [  6 349]\n",
      " [  7 593]\n",
      " [  8 131]\n",
      " [  9 464]\n",
      " [ 10 101]\n",
      " [ 12   1]\n",
      " [ 15 185]\n",
      " [ 16 305]\n",
      " [ 18  67]\n",
      " [ 19 148]]\n"
     ]
    }
   ],
   "source": [
    "#Logistic Regression with balanced weights\n",
    "\n",
    "logit = sk.linear_model.LogisticRegression( C = 1000, class_weight='balanced')\n",
    "logit.fit(x_train, y_train)\n",
    "logit.score(x_train, y_train)\n",
    "logit.score(x_test, y_test)\n",
    "\n",
    "#predict Y\n",
    "pred_y = logit.predict(x_test) \n",
    "print unique_count(pred_y)"
   ]
  },
  {
   "cell_type": "code",
   "execution_count": 140,
   "metadata": {},
   "outputs": [
    {
     "data": {
      "text/plain": [
       "LogisticRegression(C=1e-05, class_weight='balanced', dual=False,\n",
       "          fit_intercept=True, intercept_scaling=1, max_iter=100,\n",
       "          multi_class='ovr', n_jobs=1, penalty='l2', random_state=None,\n",
       "          solver='liblinear', tol=0.0001, verbose=0, warm_start=False)"
      ]
     },
     "execution_count": 140,
     "metadata": {},
     "output_type": "execute_result"
    },
    {
     "data": {
      "text/plain": [
       "LogisticRegression(C=1, class_weight='balanced', dual=False,\n",
       "          fit_intercept=True, intercept_scaling=1, max_iter=100,\n",
       "          multi_class='ovr', n_jobs=1, penalty='l2', random_state=None,\n",
       "          solver='liblinear', tol=0.0001, verbose=0, warm_start=False)"
      ]
     },
     "execution_count": 140,
     "metadata": {},
     "output_type": "execute_result"
    },
    {
     "data": {
      "text/plain": [
       "LogisticRegression(C=1000, class_weight='balanced', dual=False,\n",
       "          fit_intercept=True, intercept_scaling=1, max_iter=100,\n",
       "          multi_class='ovr', n_jobs=1, penalty='l2', random_state=None,\n",
       "          solver='liblinear', tol=0.0001, verbose=0, warm_start=False)"
      ]
     },
     "execution_count": 140,
     "metadata": {},
     "output_type": "execute_result"
    },
    {
     "data": {
      "text/plain": [
       "LogisticRegression(C=1000000, class_weight='balanced', dual=False,\n",
       "          fit_intercept=True, intercept_scaling=1, max_iter=100,\n",
       "          multi_class='ovr', n_jobs=1, penalty='l2', random_state=None,\n",
       "          solver='liblinear', tol=0.0001, verbose=0, warm_start=False)"
      ]
     },
     "execution_count": 140,
     "metadata": {},
     "output_type": "execute_result"
    }
   ],
   "source": [
    "c = [0.00001,  1, 1000, 1000000]\n",
    "\n",
    "train_acc = []\n",
    "test_acc = []\n",
    "\n",
    "for i in c:\n",
    "    logit = sk.linear_model.LogisticRegression( C = i, class_weight='balanced')\n",
    "    logit.fit(x_train, y_train)\n",
    "    train_acc.append(logit.score(x_train, y_train))\n",
    "    test_acc.append(logit.score(x_test, y_test))\n"
   ]
  },
  {
   "cell_type": "code",
   "execution_count": 141,
   "metadata": {},
   "outputs": [
    {
     "data": {
      "text/plain": [
       "<matplotlib.figure.Figure at 0x7f606b598810>"
      ]
     },
     "execution_count": 141,
     "metadata": {},
     "output_type": "execute_result"
    },
    {
     "data": {
      "text/plain": [
       "[<matplotlib.lines.Line2D at 0x7f606bc52890>]"
      ]
     },
     "execution_count": 141,
     "metadata": {},
     "output_type": "execute_result"
    },
    {
     "data": {
      "text/plain": [
       "[<matplotlib.lines.Line2D at 0x7f606bb17150>]"
      ]
     },
     "execution_count": 141,
     "metadata": {},
     "output_type": "execute_result"
    },
    {
     "data": {
      "text/plain": [
       "([<matplotlib.axis.XTick at 0x7f606bb17390>,\n",
       "  <matplotlib.axis.XTick at 0x7f606b52ad10>,\n",
       "  <matplotlib.axis.XTick at 0x7f606bc47790>,\n",
       "  <matplotlib.axis.XTick at 0x7f606bc47590>],\n",
       " <a list of 4 Text xticklabel objects>)"
      ]
     },
     "execution_count": 141,
     "metadata": {},
     "output_type": "execute_result"
    },
    {
     "data": {
      "text/plain": [
       "<matplotlib.text.Text at 0x7f606bc18190>"
      ]
     },
     "execution_count": 141,
     "metadata": {},
     "output_type": "execute_result"
    },
    {
     "data": {
      "text/plain": [
       "<matplotlib.text.Text at 0x7f606bc13c90>"
      ]
     },
     "execution_count": 141,
     "metadata": {},
     "output_type": "execute_result"
    },
    {
     "data": {
      "text/plain": [
       "(0, 1.1)"
      ]
     },
     "execution_count": 141,
     "metadata": {},
     "output_type": "execute_result"
    },
    {
     "data": {
      "text/plain": [
       "<matplotlib.text.Text at 0x7f606bc76b10>"
      ]
     },
     "execution_count": 141,
     "metadata": {},
     "output_type": "execute_result"
    },
    {
     "data": {
      "text/plain": [
       "<matplotlib.legend.Legend at 0x7f606bc47d10>"
      ]
     },
     "execution_count": 141,
     "metadata": {},
     "output_type": "execute_result"
    },
    {
     "data": {
      "image/png": "[encoded data removed]",
      "text/plain": [
       "<matplotlib.figure.Figure at 0x7f606b598810>"
      ]
     },
     "metadata": {},
     "output_type": "display_data"
    }
   ],
   "source": [
    "\n",
    "#Visualize accuracy for different C\n",
    "plt.figure(figsize=(7,7))\n",
    "plt.plot(train_acc, color='r', label='Train Accuracy')\n",
    "plt.plot(test_acc, color='g', label='Test Accuracy')\n",
    "plt.xticks(range(4), c)\n",
    "plt.xlabel('C for Logistic Regression Model')\n",
    "plt.ylabel('Accuracy')\n",
    "plt.ylim(0,1.1)\n",
    "plt.title('Train vs. Test Accuracy for different values of C')\n",
    "plt.legend(loc='best')\n",
    "plt.tight_layout()\n",
    "plt.show()"
   ]
  },
  {
   "cell_type": "markdown",
   "metadata": {},
   "source": [
    "It seems optimizing C does not seem to make much difference in test set accuracy of the model"
   ]
  },
  {
   "cell_type": "code",
   "execution_count": 135,
   "metadata": {},
   "outputs": [
    {
     "data": {
      "text/plain": [
       "SVC(C=1, cache_size=200, class_weight=None, coef0=0.0,\n",
       "  decision_function_shape=None, degree=3, gamma=1, kernel='rbf',\n",
       "  max_iter=-1, probability=False, random_state=None, shrinking=True,\n",
       "  tol=0.001, verbose=False)"
      ]
     },
     "execution_count": 135,
     "metadata": {},
     "output_type": "execute_result"
    },
    {
     "data": {
      "text/plain": [
       "0.51524231370505469"
      ]
     },
     "execution_count": 135,
     "metadata": {},
     "output_type": "execute_result"
    },
    {
     "data": {
      "text/plain": [
       "0.051367781155015196"
      ]
     },
     "execution_count": 135,
     "metadata": {},
     "output_type": "execute_result"
    },
    {
     "name": "stdout",
     "output_type": "stream",
     "text": [
      "[[   0  306]\n",
      " [   1  161]\n",
      " [   2   29]\n",
      " [   3  422]\n",
      " [   4   57]\n",
      " [   5   10]\n",
      " [   6 1317]\n",
      " [   7  106]\n",
      " [   8   47]\n",
      " [   9    5]\n",
      " [  10   33]\n",
      " [  11  107]\n",
      " [  12   29]\n",
      " [  13   36]\n",
      " [  14  178]\n",
      " [  15   45]\n",
      " [  16    6]\n",
      " [  17  374]\n",
      " [  18   11]\n",
      " [  19   11]]\n"
     ]
    }
   ],
   "source": [
    "#SVM without balanced weights\n",
    "clf = svm.SVC(kernel=\"rbf\", gamma=1, C=1)\n",
    "clf.fit(x_train, y_train) \n",
    "clf.score(x_train, y_train)\n",
    "clf.score(x_test, y_test)\n",
    "\n",
    "pred_y = clf.predict(x_test) \n",
    "print unique_count(pred_y)\n"
   ]
  },
  {
   "cell_type": "code",
   "execution_count": 97,
   "metadata": {},
   "outputs": [
    {
     "data": {
      "text/plain": [
       "SVC(C=1, cache_size=200, class_weight=None, coef0=0.0,\n",
       "  decision_function_shape=None, degree=3, gamma=1, kernel='rbf',\n",
       "  max_iter=-1, probability=False, random_state=None, shrinking=True,\n",
       "  tol=0.001, verbose=False)"
      ]
     },
     "execution_count": 97,
     "metadata": {},
     "output_type": "execute_result"
    },
    {
     "data": {
      "text/plain": [
       "0.51472120896300155"
      ]
     },
     "execution_count": 97,
     "metadata": {},
     "output_type": "execute_result"
    },
    {
     "data": {
      "text/plain": [
       "0.047112462006079027"
      ]
     },
     "execution_count": 97,
     "metadata": {},
     "output_type": "execute_result"
    }
   ],
   "source": [
    "#SVM with balanced weights\n",
    "from sklearn import svm\n",
    "\n",
    "clf = svm.SVC(kernel=\"rbf\", class_weight='balanced',gamma=1, C=1)\n",
    "clf.fit(x_train, y_train) \n",
    "clf.score(x_train, y_train)\n",
    "clf.score(x_test, y_test)\n"
   ]
  },
  {
   "cell_type": "code",
   "execution_count": 105,
   "metadata": {
    "scrolled": false
   },
   "outputs": [
    {
     "data": {
      "text/plain": [
       "SVC(C=0.1, cache_size=200, class_weight='balanced', coef0=0.0,\n",
       "  decision_function_shape=None, degree=3, gamma=1, kernel='rbf',\n",
       "  max_iter=-1, probability=False, random_state=None, shrinking=True,\n",
       "  tol=0.001, verbose=False)"
      ]
     },
     "execution_count": 105,
     "metadata": {},
     "output_type": "execute_result"
    },
    {
     "data": {
      "text/plain": [
       "SVC(C=0.3, cache_size=200, class_weight='balanced', coef0=0.0,\n",
       "  decision_function_shape=None, degree=3, gamma=1, kernel='rbf',\n",
       "  max_iter=-1, probability=False, random_state=None, shrinking=True,\n",
       "  tol=0.001, verbose=False)"
      ]
     },
     "execution_count": 105,
     "metadata": {},
     "output_type": "execute_result"
    },
    {
     "data": {
      "text/plain": [
       "SVC(C=0.5, cache_size=200, class_weight='balanced', coef0=0.0,\n",
       "  decision_function_shape=None, degree=3, gamma=1, kernel='rbf',\n",
       "  max_iter=-1, probability=False, random_state=None, shrinking=True,\n",
       "  tol=0.001, verbose=False)"
      ]
     },
     "execution_count": 105,
     "metadata": {},
     "output_type": "execute_result"
    },
    {
     "data": {
      "text/plain": [
       "SVC(C=1, cache_size=200, class_weight='balanced', coef0=0.0,\n",
       "  decision_function_shape=None, degree=3, gamma=1, kernel='rbf',\n",
       "  max_iter=-1, probability=False, random_state=None, shrinking=True,\n",
       "  tol=0.001, verbose=False)"
      ]
     },
     "execution_count": 105,
     "metadata": {},
     "output_type": "execute_result"
    },
    {
     "data": {
      "text/plain": [
       "SVC(C=10, cache_size=200, class_weight='balanced', coef0=0.0,\n",
       "  decision_function_shape=None, degree=3, gamma=1, kernel='rbf',\n",
       "  max_iter=-1, probability=False, random_state=None, shrinking=True,\n",
       "  tol=0.001, verbose=False)"
      ]
     },
     "execution_count": 105,
     "metadata": {},
     "output_type": "execute_result"
    },
    {
     "data": {
      "text/plain": [
       "SVC(C=100, cache_size=200, class_weight='balanced', coef0=0.0,\n",
       "  decision_function_shape=None, degree=3, gamma=1, kernel='rbf',\n",
       "  max_iter=-1, probability=False, random_state=None, shrinking=True,\n",
       "  tol=0.001, verbose=False)"
      ]
     },
     "execution_count": 105,
     "metadata": {},
     "output_type": "execute_result"
    },
    {
     "data": {
      "text/plain": [
       "SVC(C=100, cache_size=200, class_weight='balanced', coef0=0.0,\n",
       "  decision_function_shape=None, degree=3, gamma=1, kernel='rbf',\n",
       "  max_iter=-1, probability=False, random_state=None, shrinking=True,\n",
       "  tol=0.001, verbose=False)"
      ]
     },
     "execution_count": 105,
     "metadata": {},
     "output_type": "execute_result"
    },
    {
     "data": {
      "text/plain": [
       "<matplotlib.figure.Figure at 0x7f606b5821d0>"
      ]
     },
     "execution_count": 105,
     "metadata": {},
     "output_type": "execute_result"
    },
    {
     "data": {
      "text/plain": [
       "[<matplotlib.lines.Line2D at 0x7f606b5d0990>]"
      ]
     },
     "execution_count": 105,
     "metadata": {},
     "output_type": "execute_result"
    },
    {
     "data": {
      "text/plain": [
       "[<matplotlib.lines.Line2D at 0x7f606b5820d0>]"
      ]
     },
     "execution_count": 105,
     "metadata": {},
     "output_type": "execute_result"
    },
    {
     "data": {
      "text/plain": [
       "([<matplotlib.axis.XTick at 0x7f606b57d0d0>,\n",
       "  <matplotlib.axis.XTick at 0x7f60ac826190>,\n",
       "  <matplotlib.axis.XTick at 0x7f606b5cce50>,\n",
       "  <matplotlib.axis.XTick at 0x7f606b5cc890>,\n",
       "  <matplotlib.axis.XTick at 0x7f606b5cc290>,\n",
       "  <matplotlib.axis.XTick at 0x7f606b5c65d0>,\n",
       "  <matplotlib.axis.XTick at 0x7f606b5c6250>],\n",
       " <a list of 7 Text xticklabel objects>)"
      ]
     },
     "execution_count": 105,
     "metadata": {},
     "output_type": "execute_result"
    },
    {
     "data": {
      "text/plain": [
       "<matplotlib.text.Text at 0x7f606b57d610>"
      ]
     },
     "execution_count": 105,
     "metadata": {},
     "output_type": "execute_result"
    },
    {
     "data": {
      "text/plain": [
       "<matplotlib.text.Text at 0x7f606b5f3b50>"
      ]
     },
     "execution_count": 105,
     "metadata": {},
     "output_type": "execute_result"
    },
    {
     "data": {
      "text/plain": [
       "(0, 1.1)"
      ]
     },
     "execution_count": 105,
     "metadata": {},
     "output_type": "execute_result"
    },
    {
     "data": {
      "text/plain": [
       "<matplotlib.text.Text at 0x7f606b5dfc10>"
      ]
     },
     "execution_count": 105,
     "metadata": {},
     "output_type": "execute_result"
    },
    {
     "data": {
      "text/plain": [
       "<matplotlib.legend.Legend at 0x7f606b5d04d0>"
      ]
     },
     "execution_count": 105,
     "metadata": {},
     "output_type": "execute_result"
    },
    {
     "data": {
      "image/png": "[encoded data removed]",
      "text/plain": [
       "<matplotlib.figure.Figure at 0x7f606b5821d0>"
      ]
     },
     "metadata": {},
     "output_type": "display_data"
    }
   ],
   "source": [
    "#Optimize C in SVM model\n",
    "c = [0.1, 0.3, 0.5, 1, 10, 100]\n",
    "\n",
    "train_acc = []\n",
    "test_acc = []\n",
    "\n",
    "for i in c:\n",
    "    SVMmodel = svm.SVC(C=i, class_weight='balanced',gamma=1, kernel='rbf')\n",
    "    SVMmodel.fit(x_train, y_train)\n",
    "    train_acc.append(SVMmodel.score(x_train, y_train))\n",
    "    test_acc.append(SVMmodel.score(x_test, y_test))\n",
    "\n",
    "#Visualize accuracy for different C\n",
    "plt.figure(figsize=(7,7))\n",
    "plt.plot(train_acc, color='r', label='Train Accuracy')\n",
    "plt.plot(test_acc, color='g', label='Test Accuracy')\n",
    "plt.xticks(range(7), c)\n",
    "plt.xlabel('C for SVM Model')\n",
    "plt.ylabel('Accuracy')\n",
    "plt.ylim(0,1.1)\n",
    "plt.title('Train vs. Test Accuracy for different values of C')\n",
    "plt.legend(loc='best')\n",
    "plt.tight_layout()\n",
    "plt.show()"
   ]
  },
  {
   "cell_type": "code",
   "execution_count": 107,
   "metadata": {},
   "outputs": [
    {
     "data": {
      "text/plain": [
       "SVC(C=0.5, cache_size=200, class_weight='balanced', coef0=0.0,\n",
       "  decision_function_shape=None, degree=3, gamma=0.001, kernel='rbf',\n",
       "  max_iter=-1, probability=False, random_state=None, shrinking=True,\n",
       "  tol=0.001, verbose=False)"
      ]
     },
     "execution_count": 107,
     "metadata": {},
     "output_type": "execute_result"
    },
    {
     "data": {
      "text/plain": [
       "SVC(C=0.5, cache_size=200, class_weight='balanced', coef0=0.0,\n",
       "  decision_function_shape=None, degree=3, gamma=0.01, kernel='rbf',\n",
       "  max_iter=-1, probability=False, random_state=None, shrinking=True,\n",
       "  tol=0.001, verbose=False)"
      ]
     },
     "execution_count": 107,
     "metadata": {},
     "output_type": "execute_result"
    },
    {
     "data": {
      "text/plain": [
       "SVC(C=0.5, cache_size=200, class_weight='balanced', coef0=0.0,\n",
       "  decision_function_shape=None, degree=3, gamma=0.1, kernel='rbf',\n",
       "  max_iter=-1, probability=False, random_state=None, shrinking=True,\n",
       "  tol=0.001, verbose=False)"
      ]
     },
     "execution_count": 107,
     "metadata": {},
     "output_type": "execute_result"
    },
    {
     "data": {
      "text/plain": [
       "SVC(C=0.5, cache_size=200, class_weight='balanced', coef0=0.0,\n",
       "  decision_function_shape=None, degree=3, gamma=0.3, kernel='rbf',\n",
       "  max_iter=-1, probability=False, random_state=None, shrinking=True,\n",
       "  tol=0.001, verbose=False)"
      ]
     },
     "execution_count": 107,
     "metadata": {},
     "output_type": "execute_result"
    },
    {
     "data": {
      "text/plain": [
       "SVC(C=0.5, cache_size=200, class_weight='balanced', coef0=0.0,\n",
       "  decision_function_shape=None, degree=3, gamma=0.5, kernel='rbf',\n",
       "  max_iter=-1, probability=False, random_state=None, shrinking=True,\n",
       "  tol=0.001, verbose=False)"
      ]
     },
     "execution_count": 107,
     "metadata": {},
     "output_type": "execute_result"
    },
    {
     "data": {
      "text/plain": [
       "SVC(C=0.5, cache_size=200, class_weight='balanced', coef0=0.0,\n",
       "  decision_function_shape=None, degree=3, gamma=1, kernel='rbf',\n",
       "  max_iter=-1, probability=False, random_state=None, shrinking=True,\n",
       "  tol=0.001, verbose=False)"
      ]
     },
     "execution_count": 107,
     "metadata": {},
     "output_type": "execute_result"
    },
    {
     "data": {
      "text/plain": [
       "SVC(C=0.5, cache_size=200, class_weight='balanced', coef0=0.0,\n",
       "  decision_function_shape=None, degree=3, gamma=10, kernel='rbf',\n",
       "  max_iter=-1, probability=False, random_state=None, shrinking=True,\n",
       "  tol=0.001, verbose=False)"
      ]
     },
     "execution_count": 107,
     "metadata": {},
     "output_type": "execute_result"
    },
    {
     "data": {
      "text/plain": [
       "SVC(C=0.5, cache_size=200, class_weight='balanced', coef0=0.0,\n",
       "  decision_function_shape=None, degree=3, gamma=100, kernel='rbf',\n",
       "  max_iter=-1, probability=False, random_state=None, shrinking=True,\n",
       "  tol=0.001, verbose=False)"
      ]
     },
     "execution_count": 107,
     "metadata": {},
     "output_type": "execute_result"
    },
    {
     "data": {
      "text/plain": [
       "<matplotlib.figure.Figure at 0x7f606b586990>"
      ]
     },
     "execution_count": 107,
     "metadata": {},
     "output_type": "execute_result"
    },
    {
     "data": {
      "text/plain": [
       "[<matplotlib.lines.Line2D at 0x7f606b63f190>]"
      ]
     },
     "execution_count": 107,
     "metadata": {},
     "output_type": "execute_result"
    },
    {
     "data": {
      "text/plain": [
       "[<matplotlib.lines.Line2D at 0x7f606b5c6350>]"
      ]
     },
     "execution_count": 107,
     "metadata": {},
     "output_type": "execute_result"
    },
    {
     "data": {
      "text/plain": [
       "([<matplotlib.axis.XTick at 0x7f606b5eac90>,\n",
       "  <matplotlib.axis.XTick at 0x7f606b5eabd0>,\n",
       "  <matplotlib.axis.XTick at 0x7f606b63a710>,\n",
       "  <matplotlib.axis.XTick at 0x7f606b6b4c90>,\n",
       "  <matplotlib.axis.XTick at 0x7f606b6b4850>,\n",
       "  <matplotlib.axis.XTick at 0x7f606b6b0dd0>,\n",
       "  <matplotlib.axis.XTick at 0x7f606b6b04d0>],\n",
       " <a list of 7 Text xticklabel objects>)"
      ]
     },
     "execution_count": 107,
     "metadata": {},
     "output_type": "execute_result"
    },
    {
     "data": {
      "text/plain": [
       "<matplotlib.text.Text at 0x7f606b5ccb10>"
      ]
     },
     "execution_count": 107,
     "metadata": {},
     "output_type": "execute_result"
    },
    {
     "data": {
      "text/plain": [
       "<matplotlib.text.Text at 0x7f606b57df50>"
      ]
     },
     "execution_count": 107,
     "metadata": {},
     "output_type": "execute_result"
    },
    {
     "data": {
      "text/plain": [
       "(0, 1.1)"
      ]
     },
     "execution_count": 107,
     "metadata": {},
     "output_type": "execute_result"
    },
    {
     "data": {
      "text/plain": [
       "<matplotlib.text.Text at 0x7f606b5fce10>"
      ]
     },
     "execution_count": 107,
     "metadata": {},
     "output_type": "execute_result"
    },
    {
     "data": {
      "text/plain": [
       "<matplotlib.legend.Legend at 0x7f606b63a490>"
      ]
     },
     "execution_count": 107,
     "metadata": {},
     "output_type": "execute_result"
    },
    {
     "data": {
      "image/png": "[encoded data removed]",
      "text/plain": [
       "<matplotlib.figure.Figure at 0x7f606b586990>"
      ]
     },
     "metadata": {},
     "output_type": "display_data"
    }
   ],
   "source": [
    "#Optimize gamma in SVM model\n",
    "gamma = [0.001,0.01,0.1, 0.3, 0.5, 1, 10, 100]\n",
    "\n",
    "train_acc = []\n",
    "test_acc = []\n",
    "\n",
    "for i in gamma:\n",
    "    SVMmodel = svm.SVC(C=0.5, class_weight='balanced',gamma=i, kernel='rbf')\n",
    "    SVMmodel.fit(x_train, y_train)\n",
    "    train_acc.append(SVMmodel.score(x_train, y_train))\n",
    "    test_acc.append(SVMmodel.score(x_test, y_test))\n",
    "\n",
    "#Visualize accuracy for different C\n",
    "plt.figure(figsize=(7,7))\n",
    "plt.plot(train_acc, color='r', label='Train Accuracy')\n",
    "plt.plot(test_acc, color='g', label='Test Accuracy')\n",
    "plt.xticks(range(7), c)\n",
    "plt.xlabel('Gamma for SVM Model')\n",
    "plt.ylabel('Accuracy')\n",
    "plt.ylim(0,1.1)\n",
    "plt.title('Train vs. Test Accuracy for different values of Gamma')\n",
    "plt.legend(loc='best')\n",
    "plt.tight_layout()\n",
    "plt.show()"
   ]
  },
  {
   "cell_type": "code",
   "execution_count": 108,
   "metadata": {},
   "outputs": [
    {
     "data": {
      "text/plain": [
       "SVC(C=0.5, cache_size=200, class_weight='balanced', coef0=0.0,\n",
       "  decision_function_shape=None, degree=3, gamma=1, kernel='rbf',\n",
       "  max_iter=-1, probability=False, random_state=None, shrinking=True,\n",
       "  tol=0.001, verbose=False)"
      ]
     },
     "execution_count": 108,
     "metadata": {},
     "output_type": "execute_result"
    },
    {
     "data": {
      "text/plain": [
       "0.23540906722251173"
      ]
     },
     "execution_count": 108,
     "metadata": {},
     "output_type": "execute_result"
    },
    {
     "data": {
      "text/plain": [
       "0.16443768996960487"
      ]
     },
     "execution_count": 108,
     "metadata": {},
     "output_type": "execute_result"
    }
   ],
   "source": [
    "#Use optimized C value for SVM model as Gamma does not seem to change\n",
    "clf = svm.SVC(kernel=\"rbf\", class_weight='balanced',gamma=1, C=0.5)\n",
    "clf.fit(x_train, y_train) \n",
    "clf.score(x_train, y_train)\n",
    "clf.score(x_test, y_test)"
   ]
  },
  {
   "cell_type": "code",
   "execution_count": 115,
   "metadata": {},
   "outputs": [
    {
     "name": "stdout",
     "output_type": "stream",
     "text": [
      "[[   2   97]\n",
      " [   5   10]\n",
      " [   6 2960]\n",
      " [   9   13]\n",
      " [  10   54]\n",
      " [  12   43]\n",
      " [  16   43]\n",
      " [  18   37]\n",
      " [  19   33]]\n"
     ]
    }
   ],
   "source": [
    "pred_y = clf.predict(x_test) \n",
    "print unique_count(pred_y)\n"
   ]
  },
  {
   "cell_type": "code",
   "execution_count": 136,
   "metadata": {},
   "outputs": [
    {
     "data": {
      "text/plain": [
       "RandomForestClassifier(bootstrap=True, class_weight=None, criterion='gini',\n",
       "            max_depth=6, max_features=None, max_leaf_nodes=None,\n",
       "            min_samples_leaf=7, min_samples_split=2,\n",
       "            min_weight_fraction_leaf=0.0, n_estimators=21, n_jobs=1,\n",
       "            oob_score=False, random_state=99, verbose=0, warm_start=False)"
      ]
     },
     "execution_count": 136,
     "metadata": {},
     "output_type": "execute_result"
    },
    {
     "data": {
      "text/plain": [
       "0.29116727462219905"
      ]
     },
     "execution_count": 136,
     "metadata": {},
     "output_type": "execute_result"
    },
    {
     "data": {
      "text/plain": [
       "0.20243161094224923"
      ]
     },
     "execution_count": 136,
     "metadata": {},
     "output_type": "execute_result"
    }
   ],
   "source": [
    "from sklearn.ensemble import RandomForestClassifier\n",
    "\n",
    "boundries = 30\n",
    "max_features = ['sqrt',None]\n",
    "n_estimators = range(boundries)\n",
    "max_depth = range(boundries)\n",
    "\n",
    "score_rf = np.zeros((boundries,boundries))\n",
    "k = max_features[1]\n",
    "\n",
    "i = 20\n",
    "j = 5\n",
    "m = 7\n",
    "\n",
    "dt_rf = RandomForestClassifier(min_samples_leaf = m ,max_depth  = j+1 , max_features = k, n_estimators = i+1, random_state=99)\n",
    "dt_rf.fit(x_train,y_train)\n",
    "score_rf[i,j] = dt_rf.score(x_train,y_train)\n",
    "\n",
    "dt_rf.score(x_train,y_train)\n",
    "dt_rf.score(x_test,y_test)"
   ]
  },
  {
   "cell_type": "code",
   "execution_count": 137,
   "metadata": {},
   "outputs": [
    {
     "name": "stdout",
     "output_type": "stream",
     "text": [
      "[[   0  195]\n",
      " [   1   63]\n",
      " [   2  114]\n",
      " [   3  569]\n",
      " [   5   11]\n",
      " [   6 1890]\n",
      " [   7   61]\n",
      " [   8    2]\n",
      " [  11   76]\n",
      " [  14    4]\n",
      " [  15   15]\n",
      " [  17  290]]\n"
     ]
    }
   ],
   "source": [
    "pred_y = dt_rf.predict(x_test) \n",
    "print unique_count(pred_y)"
   ]
  },
  {
   "cell_type": "code",
   "execution_count": 139,
   "metadata": {},
   "outputs": [
    {
     "data": {
      "text/plain": [
       "RandomForestClassifier(bootstrap=True, class_weight='balanced',\n",
       "            criterion='gini', max_depth=6, max_features=None,\n",
       "            max_leaf_nodes=None, min_samples_leaf=7, min_samples_split=2,\n",
       "            min_weight_fraction_leaf=0.0, n_estimators=21, n_jobs=1,\n",
       "            oob_score=False, random_state=99, verbose=0, warm_start=False)"
      ]
     },
     "execution_count": 139,
     "metadata": {},
     "output_type": "execute_result"
    },
    {
     "data": {
      "text/plain": [
       "0.15489838457529964"
      ]
     },
     "execution_count": 139,
     "metadata": {},
     "output_type": "execute_result"
    },
    {
     "data": {
      "text/plain": [
       "0.092097264437689966"
      ]
     },
     "execution_count": 139,
     "metadata": {},
     "output_type": "execute_result"
    },
    {
     "name": "stdout",
     "output_type": "stream",
     "text": [
      "[[  0  21]\n",
      " [  1  23]\n",
      " [  2 303]\n",
      " [  3 490]\n",
      " [  4 255]\n",
      " [  5 123]\n",
      " [  6  11]\n",
      " [  7  33]\n",
      " [  8  82]\n",
      " [  9  92]\n",
      " [ 10 403]\n",
      " [ 11 322]\n",
      " [ 12 118]\n",
      " [ 13  50]\n",
      " [ 14  71]\n",
      " [ 15 203]\n",
      " [ 16 149]\n",
      " [ 17 139]\n",
      " [ 18 114]\n",
      " [ 19 288]]\n"
     ]
    }
   ],
   "source": [
    "#Fit Random Forest model with balanced weights\n",
    "dt_rf = RandomForestClassifier(min_samples_leaf = m ,max_depth  = j+1 ,class_weight='balanced', max_features = k, n_estimators = i+1, random_state=99)\n",
    "dt_rf.fit(x_train,y_train)\n",
    "score_rf[i,j] = dt_rf.score(x_train,y_train)\n",
    "\n",
    "dt_rf.score(x_train,y_train)\n",
    "dt_rf.score(x_test,y_test)\n",
    "\n",
    "pred_y = dt_rf.predict(x_test) \n",
    "print unique_count(pred_y)"
   ]
  },
  {
   "cell_type": "markdown",
   "metadata": {},
   "source": [
    "## <span style=\"color:#08088A\">  Performance Summary of Models:  </span> \n",
    "\n",
    "**Naive Model:**\n",
    "With naive model where we assign genre with the most observed one, we get 18% accuracy. Therefore our aim is to beat that benchmark. \n",
    "\n",
    "**Logistic Regression:**\n",
    "If we do not use balanced weights, we are able to achieve about 18% test set accuracy but the model only predicts among 6 genres.\n",
    "When we introduce balanced weights, the model predicts among 14 genres but accuracy drops to 5%. Optimizing C does not seem to help. \n",
    "\n",
    "**SVM Model:**\n",
    "With SVM model we are able to achieve 5% test set accuracy. The balanced/unbalanced class weights do not make a difference with SVM Model. \n",
    "It seems that with optimized hyperparameters we can achieve 16% training set accuracy with SVM model but it predicts among 9 genres.\n",
    "\n",
    "**Random Forest Model:**\n",
    "With unbalanced class weights RF model achieves 20% test set accuracy and it predicts among 12 genres.\n",
    "With balanced weights, RF model achieves only 9% test set accuracy and it predicts from all the genres. \n",
    "\n",
    "## <span style=\"color:#08088A\">Conclusion </span> \n",
    "Using traditional machine learning algorithms with the predictor variables (metadata and Overview and title with PCA) we seem to perform better than a Naive model only with Random Forest model with unbalanced class weights. \n",
    "\n",
    "**Barriers for high accuracy:**\n",
    "1. Some genre has low number of observations so it is hard to learn from\n",
    "2. Data is imbalanced and there are about 20 genres to predict\n",
    "3. Using bag-of-words and dummy variables we get thousands of features, which is computationally hard to run and there is risk of overfitting. Therefore we used PCA to reduce dimensionality, but we lose a significant portion of the variance. \n",
    "4. We have duplicated observations for each genre which might be confusing the model and we might actually be predicting correctly among the multi labels but we are only testing accuracy for the associated single label. \n",
    "5. There are no good predictors of genre in the metadata as our previous correlation analysis showed.\n",
    "\n",
    "**This milestone presented a good learning opportunity for us and get more familiar with the data. \n",
    "Going forward our aim will be to improve our model through:**\n",
    "\n",
    "1. Apply deep learning\n",
    "2. Don't use PCA to reduce the dimension of bag-of-words and consider temporal modeling to capture the context in the overview text, such as hidden markov model, conditional random field or RNN. \n",
    "3. Use poster image data\n",
    "4. Don't reduce multi-label problem to single-label problem. Use a single label each time and combine the final prediction using one-vs-all. \n"
   ]
  }
 ],
 "metadata": {
  "anaconda-cloud": {},
  "kernelspec": {
   "display_name": "Python 3",
   "language": "python",
   "name": "python3"
  },
  "language_info": {
   "codemirror_mode": {
    "name": "ipython",
    "version": 3
   },
   "file_extension": ".py",
   "mimetype": "text/x-python",
   "name": "python",
   "nbconvert_exporter": "python",
   "pygments_lexer": "ipython3",
   "version": "3.6.1"
  }
 },
 "nbformat": 4,
 "nbformat_minor": 2
}
